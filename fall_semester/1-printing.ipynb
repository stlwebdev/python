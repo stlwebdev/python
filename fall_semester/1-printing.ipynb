{
 "cells": [
  {
   "cell_type": "markdown",
   "metadata": {},
   "source": [
    "```\n",
    "INTRO TO\n",
    "    ______  __________  ______  _   __\n",
    "   / __ \\ \\/ /_  __/ / / / __ \\/ | / /\n",
    "  / /_/ /\\  / / / / /_/ / / / /  |/ / \n",
    " / ____/ / / / / / __  / /_/ / /|  /  \n",
    "/_/     /_/ /_/ /_/ /_/\\____/_/ |_/   \n",
    "```"
   ]
  },
  {
   "cell_type": "markdown",
   "metadata": {},
   "source": [
    "# 1 Printing\n",
    "\n",
    "Hello! Let's get started learning Python!"
   ]
  },
  {
   "cell_type": "code",
   "execution_count": null,
   "metadata": {
    "collapsed": false,
    "jupyter": {
     "outputs_hidden": false
    }
   },
   "outputs": [],
   "source": [
    "# This is a comment\n",
    "# It's a line of code that doesn't do anything\n",
    "# Python will basically ignore these lines\n",
    "# You can create a comment using a #\n",
    "# You can use comments to provide useful information about your code"
   ]
  },
  {
   "cell_type": "code",
   "execution_count": null,
   "metadata": {
    "collapsed": false,
    "jupyter": {
     "outputs_hidden": false
    }
   },
   "outputs": [],
   "source": [
    "# A multi-line comment\n",
    "'''\n",
    "Your first podcast will be awful\n",
    "Your first video will be awful\n",
    "Your first article will be awful\n",
    "Your first art will be awful\n",
    "Your first photo will be awful\n",
    "Your first game will be awful\n",
    "But your first code will be perfect.\n",
    "Zero bugs and very clean code.\n",
    "It will be 'Hello, world!'\n",
    "'''"
   ]
  },
  {
   "cell_type": "markdown",
   "metadata": {},
   "source": [
    "Cool, time for your first actual program!\n",
    "\n",
    "Only boring people print `'Hello, world!'` for their first program, so we will print `'I love Python!'` instead. Click on the code cell below and press the `Run` button to see it in action!"
   ]
  },
  {
   "cell_type": "code",
   "execution_count": null,
   "metadata": {
    "collapsed": false,
    "jupyter": {
     "outputs_hidden": false
    }
   },
   "outputs": [],
   "source": [
    "print('I love Python!')"
   ]
  },
  {
   "cell_type": "markdown",
   "metadata": {},
   "source": [
    "## Activity 1: I love Python!\n",
    "\n",
    "Let's start simple. I mean, everyone has to start somewhere, right? Write the code to print out the text `'I love Python!'`!"
   ]
  },
  {
   "cell_type": "code",
   "execution_count": null,
   "metadata": {},
   "outputs": [],
   "source": [
    "# Activity 1 code here\n"
   ]
  },
  {
   "cell_type": "markdown",
   "metadata": {},
   "source": [
    "## Activity 2: I really really love Python!\n",
    "\n",
    "Alright, so Bobert Wender the cool kid has just walked in. He decides to 1-up you, and writes a program that prints `'I really love Python!'`! Prove that you're better than him and write a program that prints `'I really really love Python!'`!"
   ]
  },
  {
   "cell_type": "code",
   "execution_count": null,
   "metadata": {},
   "outputs": [],
   "source": [
    "# Activity 2 code here\n"
   ]
  },
  {
   "cell_type": "markdown",
   "metadata": {},
   "source": [
    "## Activity 3: I really really really love Python!\n",
    "\n",
    "OK, so Billiam Wender walks in, and he writes the following program to print `'I really really really love Python!'`! However, it doesn't work! Help him fix it!"
   ]
  },
  {
   "cell_type": "code",
   "execution_count": null,
   "metadata": {},
   "outputs": [],
   "source": [
    "# Activity 3 code here\n",
    "\n",
    "print(I really really really love Python!)"
   ]
  },
  {
   "cell_type": "markdown",
   "metadata": {},
   "source": [
    "Cool, so hopefully you learned that anytime we want to print text, it **must be in quotes**. It must be. No exceptions. The thing about programming is that your code has to have all the syntax *exactly right* or else Python will scream at you with angry errors. Yeah, Python's kinda a perfectionist.\n",
    "\n",
    "Let's print out some more stuff! For all these examples, please click inside each box and click the run button at the top. It'll help you see the examples working in action!"
   ]
  },
  {
   "cell_type": "code",
   "execution_count": null,
   "metadata": {
    "collapsed": false,
    "jupyter": {
     "outputs_hidden": false
    }
   },
   "outputs": [],
   "source": [
    "print('Python is fun!')\n",
    "print('I love Python!')\n",
    "print('🐍')\n",
    "print('My name is Billiam and I will now sing a terrible song')"
   ]
  },
  {
   "cell_type": "markdown",
   "metadata": {},
   "source": [
    "## Activity 4: Print something fun!\n",
    "\n",
    "OK, you must be tired of printing `'I really really love Python!'`. Time for something fun! Print a sentence about yourself. Mention your name, age, and favorite food."
   ]
  },
  {
   "cell_type": "code",
   "execution_count": null,
   "metadata": {
    "collapsed": false,
    "jupyter": {
     "outputs_hidden": false
    }
   },
   "outputs": [],
   "source": [
    "# Activity 4 code here\n"
   ]
  },
  {
   "cell_type": "markdown",
   "metadata": {},
   "source": [
    "## Activity 5: I can't stop printing!\n",
    "\n",
    "Printing is so much fun! Print your name, age, and favorite food so the output looks like this:\n",
    "```\n",
    "Bobert Wender\n",
    "14\n",
    "Evaporated milk\n",
    "```\n",
    "How is this different than the last activity?"
   ]
  },
  {
   "cell_type": "code",
   "execution_count": null,
   "metadata": {},
   "outputs": [],
   "source": [
    "# Activity 5 code here\n"
   ]
  },
  {
   "cell_type": "markdown",
   "metadata": {},
   "source": [
    "Did you know Python is also a lighting-fast mathematician? When we print a math expression, Python will evaluate it for us. How nice!"
   ]
  },
  {
   "cell_type": "code",
   "execution_count": null,
   "metadata": {
    "collapsed": false,
    "jupyter": {
     "outputs_hidden": false
    }
   },
   "outputs": [],
   "source": [
    "# Prints 4\n",
    "print(2 + 2)\n",
    "\n",
    "# Prints 19\n",
    "print(9 + 10)\n",
    "\n",
    "# Prints 380\n",
    "print(19 * 20)"
   ]
  },
  {
   "cell_type": "markdown",
   "metadata": {},
   "source": [
    "Wait, why are there no quotes this time? What happens when we add quotes?"
   ]
  },
  {
   "cell_type": "code",
   "execution_count": null,
   "metadata": {
    "collapsed": false,
    "jupyter": {
     "outputs_hidden": false
    }
   },
   "outputs": [],
   "source": [
    "# Prints the LITERAL TEXT 2 + 2\n",
    "print('2 + 2')"
   ]
  },
  {
   "cell_type": "markdown",
   "metadata": {},
   "source": [
    "When we don't include quotes, Python tries to evaluate it as a math expression! That's why our `print(I really really really love Python!)` was failing earlier! That's not a math expression, so Python bails out and screams errors at you."
   ]
  },
  {
   "cell_type": "markdown",
   "metadata": {},
   "source": [
    "## Activity 6: Laptop-sized calculator\n",
    "\n",
    "Sometimes, the only calculator you have with you is a bulky laptop. Sure, you could search up the answer, but we have Python! Use Python to help you compute `69 * 420`."
   ]
  },
  {
   "cell_type": "code",
   "execution_count": null,
   "metadata": {},
   "outputs": [],
   "source": [
    "# Activity 6 code here\n"
   ]
  },
  {
   "cell_type": "markdown",
   "metadata": {},
   "source": [
    "## Activity 7: Bobert goofs up again\n",
    "\n",
    "Bobert wrote the following code to solve the previous activity, and it's not working for some reason. Come on, Bobert! Please help him!"
   ]
  },
  {
   "cell_type": "code",
   "execution_count": null,
   "metadata": {},
   "outputs": [],
   "source": [
    "# Activity 7 code here\n",
    "\n",
    "print('69 * 420')"
   ]
  },
  {
   "cell_type": "markdown",
   "metadata": {},
   "source": [
    "As we saw earlier, each print statement puts the result on a new line."
   ]
  },
  {
   "cell_type": "code",
   "execution_count": null,
   "metadata": {
    "collapsed": false,
    "jupyter": {
     "outputs_hidden": false
    }
   },
   "outputs": [],
   "source": [
    "print('2 + 2 =')\n",
    "print(2 + 2)"
   ]
  },
  {
   "cell_type": "markdown",
   "metadata": {},
   "source": [
    "You haven't seen Python's insane math skills yet. Can you evaluate these complicated math expressions faster than Python?"
   ]
  },
  {
   "cell_type": "code",
   "execution_count": null,
   "metadata": {
    "collapsed": false,
    "jupyter": {
     "outputs_hidden": false
    }
   },
   "outputs": [],
   "source": [
    "print(1729 - 42 - 13)\n",
    "print(9 + 10 * (7 * 5 - 3))"
   ]
  },
  {
   "cell_type": "markdown",
   "metadata": {},
   "source": [
    "And we can print an empty, lonely blank line."
   ]
  },
  {
   "cell_type": "code",
   "execution_count": null,
   "metadata": {
    "collapsed": false,
    "jupyter": {
     "outputs_hidden": false
    }
   },
   "outputs": [],
   "source": [
    "print()"
   ]
  },
  {
   "cell_type": "markdown",
   "metadata": {},
   "source": [
    "This is useful if we want to separate two things with an empty line."
   ]
  },
  {
   "cell_type": "code",
   "execution_count": null,
   "metadata": {},
   "outputs": [],
   "source": [
    "print('BREAKING NEWS!')\n",
    "print()\n",
    "print('An army of Pythons has escaped a secret laboratory in Area 51 and are now advancing towards our city! They are making steady progress, destroying all the troops that have been deployed so far to stop them. We don\\'t know why this is happening, but all we can say is that this might be the last time you see me alive.')"
   ]
  },
  {
   "cell_type": "markdown",
   "metadata": {},
   "source": [
    "## Activity 8: Attack of the Pythons I\n",
    "\n",
    "As you may have heard, an army of Pythons has attacked your city, and you're trying to get into your secret apocalypse bunker. (Because in this world, everyone has bunkers. You never know what could happen.) Fortunately, it has a password-protected lock so the Pythons can't get inside. Unfortunately, you forgot what the password is! Fortunately, you remember that it is equal to the value of the complicated mathematical expression `2+2+923-5*(9+7*2*(6+3*2))`. Unfortunately, you can't do quick maths in your head. Print out your password using Python!"
   ]
  },
  {
   "cell_type": "code",
   "execution_count": null,
   "metadata": {
    "collapsed": false,
    "jupyter": {
     "outputs_hidden": false
    }
   },
   "outputs": [],
   "source": [
    "# Activity 8 code here\n"
   ]
  },
  {
   "cell_type": "markdown",
   "metadata": {},
   "source": [
    "## Activity 9: I love printing!\n",
    "\n",
    "Bobert has a lot of stuff that he needs you to print. First, print your birthday. Next, print a fun fact about yourself. Then, print `9 + 10` and print `'9 + 10'`. (Note the difference!) Finally, print your favorite food. Additionally, print a blank line between each line of output! Bobert's completely lost and doesn't know what to do, but can you do all of this correctly?"
   ]
  },
  {
   "cell_type": "code",
   "execution_count": null,
   "metadata": {
    "collapsed": false,
    "jupyter": {
     "outputs_hidden": false
    }
   },
   "outputs": [],
   "source": [
    "# Activity 9 code here\n"
   ]
  },
  {
   "cell_type": "markdown",
   "metadata": {},
   "source": [
    "## Activity 10: I really really really really love Python!\n",
    "\n",
    "OK, this is kinda getting out of hand, but you need to print `I really really really love Python!` to prove to everyone how awesome you are. Look, don't ask me why. But the thing is, no one's going to be convinced of your awesomeness if you *only* print that. So therefore, you *also* have to print out your top three reasons why you like Python, each separated by a blank line. After all that work, everyone will surely realize how awesome you are, right? Right?"
   ]
  },
  {
   "cell_type": "code",
   "execution_count": null,
   "metadata": {},
   "outputs": [],
   "source": [
    "# Activity 10 code here\n"
   ]
  },
  {
   "cell_type": "markdown",
   "metadata": {},
   "source": [
    "## TL;DR\n",
    "\n",
    "In this lesson, we mastered a new skill, printing! To print `some text`, just type `print('some text')`. **Make sure you have the parentheses and quotes!** Otherwise, Python the perfectionist will scream errors at you.\n",
    "\n",
    "We can also use Python to do our math homework, using things like `print(2 + 2)`. **Make sure you don't have quotes here!** This is pretty confusing to Python beginners, so make sure you remember this!\n",
    "\n",
    "To print multiple things, use multiple `print( )` statements. This puts each thing on a new line.\n",
    "\n",
    "Comments are lines starting with `#` to help us understand our code better when we come back to our code a few months later and have no idea what's going on. Write comments for tricky code!"
   ]
  }
 ],
 "metadata": {
  "interpreter": {
   "hash": "767d51c1340bd893661ea55ea3124f6de3c7a262a8b4abca0554b478b1e2ff90"
  },
  "kernelspec": {
   "display_name": "Python 3 (ipykernel)",
   "language": "python",
   "name": "python3"
  },
  "language_info": {
   "codemirror_mode": {
    "name": "ipython",
    "version": 3
   },
   "file_extension": ".py",
   "mimetype": "text/x-python",
   "name": "python",
   "nbconvert_exporter": "python",
   "pygments_lexer": "ipython3",
   "version": "3.10.9"
  },
  "toc-showtags": false
 },
 "nbformat": 4,
 "nbformat_minor": 4
}
