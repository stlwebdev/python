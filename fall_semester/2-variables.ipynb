{
 "cells": [
  {
   "cell_type": "markdown",
   "metadata": {},
   "source": [
    "```\n",
    "INTRO TO\n",
    "    ______  __________  ______  _   __\n",
    "   / __ \\ \\/ /_  __/ / / / __ \\/ | / /\n",
    "  / /_/ /\\  / / / / /_/ / / / /  |/ / \n",
    " / ____/ / / / / / __  / /_/ / /|  /  \n",
    "/_/     /_/ /_/ /_/ /_/\\____/_/ |_/   \n",
    "```"
   ]
  },
  {
   "cell_type": "markdown",
   "metadata": {},
   "source": [
    "# 2 Variables\n",
    "\n",
    "Just like you, computers have memory. We use **variables** to store information in the computer's memory. A variable is a named \"slot\" in the computer's memory.\n",
    "\n",
    "Imagine a computer's memory being a huge warehouse of unlabeled boxes. Each box represents a potential variable. When you create a variable, you do 2 things:\n",
    "1. You write the variable **name** on the side of the box.\n",
    "2. You put the variable's **value** into the box.\n",
    "\n",
    "All the unlabeled boxes are memory slots with no variable or value assigned."
   ]
  },
  {
   "cell_type": "markdown",
   "metadata": {},
   "source": [
    "Let's make a variable named `age_of_Bobert`. This value will represent the age of Bobert 😛."
   ]
  },
  {
   "cell_type": "code",
   "execution_count": null,
   "metadata": {
    "collapsed": false,
    "jupyter": {
     "outputs_hidden": false
    }
   },
   "outputs": [],
   "source": [
    "age_of_Bobert = 14"
   ]
  },
  {
   "cell_type": "markdown",
   "metadata": {},
   "source": [
    "We're doing 2 things in 1 line\n",
    "1. We create a variable named `age_of_Bobert`.\n",
    "2. We give the variable the value `14`.\n",
    "\n",
    "OK, so what do we know about this variable, `age_of_Bobert`?\n",
    "- The variable's **name** is `age_of_Bobert`.\n",
    "- The variable's **value** is `14`."
   ]
  },
  {
   "cell_type": "markdown",
   "metadata": {},
   "source": [
    "## Activity 1: Billiam is better!\n",
    "\n",
    "Billiam wants to prove to everyone for once and for all that he's so much better than Bobert. Create a variable named `age_of_Billiam` with value `16`!"
   ]
  },
  {
   "cell_type": "code",
   "execution_count": null,
   "metadata": {},
   "outputs": [],
   "source": [
    "# Activity 1 code here\n"
   ]
  },
  {
   "cell_type": "markdown",
   "metadata": {},
   "source": [
    "Let's now create a variable called `age_of_Bella`. Bella is two years younger than Bobert.\n",
    "\n",
    "**When you use a variable, Python substitutes the value of the variable in.**"
   ]
  },
  {
   "cell_type": "code",
   "execution_count": null,
   "metadata": {
    "collapsed": false,
    "jupyter": {
     "outputs_hidden": false
    }
   },
   "outputs": [],
   "source": [
    "age_of_Bella = age_of_Bobert - 2"
   ]
  },
  {
   "cell_type": "markdown",
   "metadata": {},
   "source": [
    "To understand this, let's read it out loud: The age of Bella equals the age of Bobert minus 2.\n",
    "\n",
    "We are doing 3 things:\n",
    "1. We create a new variable named `age_of_Bella`.\n",
    "2. We calculate `age_of_Bobert - 2`, which is `12`.\n",
    "3. We assign the variable `age_of_Bella` the value `12`.\n",
    "\n",
    "Thus, `age_of_Bella` now has a value of `12`! Making sense?"
   ]
  },
  {
   "cell_type": "markdown",
   "metadata": {},
   "source": [
    "Let's print out `age_of_Bella` to make sure:"
   ]
  },
  {
   "cell_type": "code",
   "execution_count": null,
   "metadata": {},
   "outputs": [],
   "source": [
    "print(age_of_Bella)"
   ]
  },
  {
   "cell_type": "markdown",
   "metadata": {},
   "source": [
    "Why do we not need quotes here? Well, we don't want to print the exact text `'age_of_Bella'`, which is what would happen if we had quotes.\n",
    "\n",
    "But is this a math expression? It kinda is, right, since `age_of_Bella` is some number. We're using the variable, and Python will substitute the value in."
   ]
  },
  {
   "cell_type": "markdown",
   "metadata": {},
   "source": [
    "## Activity 2: Age of me\n",
    "\n",
    "Billiam, Bobert, and Bella want to know your age. Yeah, they're stalkers now. Create a variable called `age_of_me` and assign it the value of your age!"
   ]
  },
  {
   "cell_type": "code",
   "execution_count": null,
   "metadata": {},
   "outputs": [],
   "source": [
    "# Activity 2 code here\n"
   ]
  },
  {
   "cell_type": "markdown",
   "metadata": {},
   "source": [
    "It's Bella's birthday today! She's now `13` years old. We can give the variable `age_of_Bella` a new value. After all, it's just a memory slot!"
   ]
  },
  {
   "cell_type": "code",
   "execution_count": null,
   "metadata": {
    "collapsed": false,
    "jupyter": {
     "outputs_hidden": false
    }
   },
   "outputs": [],
   "source": [
    "age_of_Bella = 13"
   ]
  },
  {
   "cell_type": "markdown",
   "metadata": {},
   "source": [
    "Also, note that variable names are **case-sensitive**. That means `age`, `AGE`, and `Age` are three different variables."
   ]
  },
  {
   "cell_type": "markdown",
   "metadata": {},
   "source": [
    "## Activity 3: Experimenting with variables\n",
    "\n",
    "Let's try a fun experiment. Make a variable named `my_grade` and give it the value of your grade, such as `6` or `12`. Then, print its value. Still remember how to print?"
   ]
  },
  {
   "cell_type": "code",
   "execution_count": null,
   "metadata": {
    "collapsed": false,
    "jupyter": {
     "outputs_hidden": false
    }
   },
   "outputs": [],
   "source": [
    "# Activity 3 code here\n"
   ]
  },
  {
   "cell_type": "markdown",
   "metadata": {},
   "source": [
    "## Activity 4: Twice as old\n",
    "\n",
    "Bobert's stuck on this activity and needs your help. Print out the `age_of_Bobert` times `2`. Don't cheat here and just write `print(28)`! Translate the task into Python code instead."
   ]
  },
  {
   "cell_type": "code",
   "execution_count": null,
   "metadata": {},
   "outputs": [],
   "source": [
    "# Activity 4 code here\n"
   ]
  },
  {
   "cell_type": "markdown",
   "metadata": {},
   "source": [
    "## Activity 5: Save my password!\n",
    "\n",
    "You know those annoying popups that ask you to save a password and most people just click it out of sheer annoyance? Well today, we're going to make sure you don't forget the password to your apocalyse bunker by saving it to a variable called `password`. Remember, your password is equal the value of the expression `2+2+923-5*(9+7*2*(6+3*2))`. Convert that previous sentence into a line of code! It's deceptively simple!"
   ]
  },
  {
   "cell_type": "code",
   "execution_count": null,
   "metadata": {},
   "outputs": [],
   "source": [
    "# Activity 5 code here\n"
   ]
  },
  {
   "cell_type": "markdown",
   "metadata": {},
   "source": [
    "Like when we are printing, we can write some complicated math expression, and Python will do all the quick maths and compute it for us! Here's another example:"
   ]
  },
  {
   "cell_type": "code",
   "execution_count": null,
   "metadata": {},
   "outputs": [],
   "source": [
    "seconds_in_a_year = 60 * 60 * 24 * 365\n",
    "print(seconds_in_a_year)"
   ]
  },
  {
   "cell_type": "markdown",
   "metadata": {},
   "source": [
    "## Activity 6: Bobert goofs up yet again\n",
    "\n",
    "Oh, not again! Bobert wrote this code and he wants you to help him figure out what's wrong!"
   ]
  },
  {
   "cell_type": "code",
   "execution_count": null,
   "metadata": {},
   "outputs": [],
   "source": [
    "# Activity 6 code here\n",
    "\n",
    "print('Bobert')\n",
    "print(1 + 1)\n",
    "print('Bobert' + 1)"
   ]
  },
  {
   "cell_type": "markdown",
   "metadata": {},
   "source": [
    "In that last activity, we were basically trying to add a number to some text. That's like adding `1` to `'apple'`. It makes no logical sense, right?\n",
    "\n",
    "This is why Python has **types**.\n",
    "\n",
    "🚨 Warning: types are going to be your archenemy if you don't understand them. **Please pay special attention.** We're entering a danger zone: types are by far the most difficult concept for new Python learners.\n",
    "\n",
    "We don't want to be able to add numbers to text. We know numbers and text are different kinds of things, right?\n",
    "\n",
    "Python calls these \"categories\" types. **Every value has a type. This tells you what kind of value it is.** Here are the two types we've seen so far:\n",
    "- `int`: These are numbers (integers). All whole numbers, like `0` or `2` or `-1` or `1729`, have type `int`.\n",
    "- `str`: These are text (strings). **A string is text in quotes.** If you don't have quotes, Python will think the text is a variable.\n",
    "\n",
    "By having these different types, Python can recognize when something's off. You're trying to add an `int` to a `str`? Not so fast! That doesn't make sense! You can't add numbers to text! Using this clever system of types, Python knows exactly when you are able to add two things and when you can't."
   ]
  },
  {
   "cell_type": "markdown",
   "metadata": {},
   "source": [
    "Let's learn a bit more about strings. Recall we can print text with quotes."
   ]
  },
  {
   "cell_type": "code",
   "execution_count": null,
   "metadata": {
    "collapsed": false,
    "jupyter": {
     "outputs_hidden": false
    }
   },
   "outputs": [],
   "source": [
    "print('Billiam Wender')"
   ]
  },
  {
   "cell_type": "markdown",
   "metadata": {},
   "source": [
    "What we are really doing is making a **string** value and printing the string out. **A string is text in quotes.** (Repeated so hopefully this sticks deep in your brain)\n",
    "\n",
    "We can also make a string and assign it to a variable:"
   ]
  },
  {
   "cell_type": "code",
   "execution_count": null,
   "metadata": {
    "collapsed": false,
    "jupyter": {
     "outputs_hidden": false
    }
   },
   "outputs": [],
   "source": [
    "your_name = 'Billiam Wender'\n",
    "print(your_name)"
   ]
  },
  {
   "cell_type": "markdown",
   "metadata": {},
   "source": [
    "Whoa! We created a variable `your_name`, and assigned it the value `'Billiam Wender'`. Since we have text in quotes, we created a string value!"
   ]
  },
  {
   "cell_type": "markdown",
   "metadata": {},
   "source": [
    "Since this variable `your_name` is storing a `str` value, it also has **type** `str`. This is extremely important! All variables have a type too! The type of a variable is simply the type of the value it is storing."
   ]
  },
  {
   "cell_type": "markdown",
   "metadata": {},
   "source": [
    "## Activity 7: Guess the type!\n",
    "\n",
    "Billiam is pitching you an idea for a new game show: Guess the type! In this game show, you are shown a Python value and you must guess its type. Let's try it out!"
   ]
  },
  {
   "cell_type": "code",
   "execution_count": null,
   "metadata": {},
   "outputs": [],
   "source": [
    "# Activity 7 code here\n",
    "\n",
    "# What type is this value?\n",
    "print(2)\n",
    "\n",
    "# What type is this value?\n",
    "print('Bobert')\n",
    "\n",
    "# What type is this value?\n",
    "print('Goodbye, world!')\n",
    "\n",
    "# What type is this value?\n",
    "print(9 + 10)"
   ]
  },
  {
   "cell_type": "markdown",
   "metadata": {},
   "source": [
    "How do you tell the difference between `int` and `str` types?\n",
    "- Integers will be green\n",
    "- Strings will be red with **quotes**"
   ]
  },
  {
   "cell_type": "markdown",
   "metadata": {},
   "source": [
    "The type of a value or variable is **very important**! Always make sure you know the type of your variables!\n",
    "\n",
    "If you're not sure, you can get the type like this:"
   ]
  },
  {
   "cell_type": "code",
   "execution_count": null,
   "metadata": {
    "collapsed": false,
    "jupyter": {
     "outputs_hidden": false
    }
   },
   "outputs": [],
   "source": [
    "print(type('Bella Wender'))\n",
    "print(type(1729))\n",
    "print(type(age_of_Bobert))"
   ]
  },
  {
   "cell_type": "code",
   "execution_count": null,
   "metadata": {
    "collapsed": false,
    "jupyter": {
     "outputs_hidden": false
    }
   },
   "outputs": [],
   "source": [
    "# Let's check its value\n",
    "print(age_of_Billiam)\n",
    "\n",
    "# And its type\n",
    "print(type(age_of_Billiam))"
   ]
  },
  {
   "cell_type": "markdown",
   "metadata": {},
   "source": [
    "As we just saw, `age_of_Bobert` and `age_of_Billiam` both have type `int` because they are storing whole numbers. What if we use `type( )` for some text?"
   ]
  },
  {
   "cell_type": "code",
   "execution_count": null,
   "metadata": {},
   "outputs": [],
   "source": [
    "print(type('Billiam Wender'))"
   ]
  },
  {
   "cell_type": "markdown",
   "metadata": {},
   "source": [
    "Let's also see what the type of the `your_name` variable is:"
   ]
  },
  {
   "cell_type": "code",
   "execution_count": null,
   "metadata": {
    "collapsed": false,
    "jupyter": {
     "outputs_hidden": false
    }
   },
   "outputs": [],
   "source": [
    "your_name = 'Billiam Wender'\n",
    "print(type(your_name))"
   ]
  },
  {
   "cell_type": "markdown",
   "metadata": {},
   "source": [
    "We can also change the value of `your_name`:"
   ]
  },
  {
   "cell_type": "code",
   "execution_count": null,
   "metadata": {
    "collapsed": false,
    "jupyter": {
     "outputs_hidden": false
    }
   },
   "outputs": [],
   "source": [
    "print('Your name is:')\n",
    "print(your_name)\n",
    "\n",
    "# Change the value!\n",
    "your_name = 'Bobert Wender'\n",
    "\n",
    "# Now it's 'Bober Wender'\n",
    "print('Now your name is:')\n",
    "print(your_name)"
   ]
  },
  {
   "cell_type": "markdown",
   "metadata": {},
   "source": [
    "When creating a string, make sure the text has quotes around it! Otherwise, Python will think Bill and Wender are variables!"
   ]
  },
  {
   "cell_type": "markdown",
   "metadata": {
    "jupyter": {
     "outputs_hidden": false
    }
   },
   "source": [
    "## Activity 8: Bobert goofs up... again!\n",
    "\n",
    "Oh man, Bobert, why do you keep goofing up? Anyways, Bobert wrote the following code and... it doesn't work. What is Python really trying to do here?"
   ]
  },
  {
   "cell_type": "code",
   "execution_count": null,
   "metadata": {
    "collapsed": false,
    "jupyter": {
     "outputs_hidden": false
    }
   },
   "outputs": [],
   "source": [
    "# Activity 8 code here\n",
    "\n",
    "your_name = Bobert\n",
    "print(your_name)"
   ]
  },
  {
   "cell_type": "markdown",
   "metadata": {},
   "source": [
    "Now hopefully, you should kinda understand when we need to use quotes and when not to. When we want Python to evaluate some math expression or an expression that uses some variables, don't use quotes. But when we want to print exact text, we're really creating a string value, and then printing the string out."
   ]
  },
  {
   "cell_type": "code",
   "execution_count": null,
   "metadata": {
    "collapsed": false,
    "jupyter": {
     "outputs_hidden": false
    }
   },
   "outputs": [],
   "source": [
    "# Not a string, no quotes, so Python will evaluate it\n",
    "print(30 + (12 - 6) * 2)\n",
    "\n",
    "# Is a string, because of the quotes\n",
    "print('30 + (12 - 6) * 2')\n",
    "\n",
    "# Without quotes, Python evaluates it and variables are substituted in\n",
    "print(your_name)"
   ]
  },
  {
   "cell_type": "markdown",
   "metadata": {},
   "source": [
    "## Activity 9: Variable me\n",
    "\n",
    "Billiam wants to know how much you know about variables. Can you create 2 variables, `my_name` and `my_age`, and assign your name and age to those variables? What types are each of the variables?"
   ]
  },
  {
   "cell_type": "code",
   "execution_count": null,
   "metadata": {
    "collapsed": false,
    "jupyter": {
     "outputs_hidden": false
    }
   },
   "outputs": [],
   "source": [
    "# Activity 9 code here\n"
   ]
  },
  {
   "cell_type": "markdown",
   "metadata": {},
   "source": [
    "## Activity 10: I love variables!\n",
    "\n",
    "Billiam and Bobert are trying to figure out who knows variables better. First, you need to create a variable called `grade_of_Bobert` and assign it a value of `6`. Then, create a variable called `grade_of_Billiam` and assign it a value two more than `grade_of_Bobert`. What are the types of the two variables you just created? Now print out the sum of their grades!"
   ]
  },
  {
   "cell_type": "code",
   "execution_count": null,
   "metadata": {
    "collapsed": false,
    "jupyter": {
     "outputs_hidden": false
    }
   },
   "outputs": [],
   "source": [
    "# Activity 10 code here\n"
   ]
  },
  {
   "cell_type": "markdown",
   "metadata": {
    "tags": []
   },
   "source": [
    "## TL;DR\n",
    "\n",
    "We use **variables** to store information in the computer's memory. We can create a new variable like this: `age_of_Billiam = 16`. This creates a new variable **named** `age_of_Billiam` storing the **value** `16`.\n",
    "\n",
    "Whenever we use a variable, Python substitutes the value of the variable into the expression.\n",
    "\n",
    "Python has **types** to make sure we don't do `'apple' + 1` which makes no sense. `'apple'` has type `str` since it is text in quotes and `1` has type integer because it is a number. The type of a variable is the type of the value it is storing. Therefore, `age_of_Billiam` has type `int` because its value, `13` has type `int`. Make sure you always know the types of your values and variables!"
   ]
  }
 ],
 "metadata": {
  "kernelspec": {
   "display_name": "Python 3 (ipykernel)",
   "language": "python",
   "name": "python3"
  },
  "language_info": {
   "codemirror_mode": {
    "name": "ipython",
    "version": 3
   },
   "file_extension": ".py",
   "mimetype": "text/x-python",
   "name": "python",
   "nbconvert_exporter": "python",
   "pygments_lexer": "ipython3",
   "version": "3.10.9"
  }
 },
 "nbformat": 4,
 "nbformat_minor": 4
}
