{
 "cells": [
  {
   "cell_type": "markdown",
   "metadata": {},
   "source": [
    "```\n",
    "INTRO TO\n",
    "    ______  __________  ______  _   __\n",
    "   / __ \\ \\/ /_  __/ / / / __ \\/ | / /\n",
    "  / /_/ /\\  / / / / /_/ / / / /  |/ / \n",
    " / ____/ / / / / / __  / /_/ / /|  /  \n",
    "/_/     /_/ /_/ /_/ /_/\\____/_/ |_/   \n",
    "```"
   ]
  },
  {
   "cell_type": "markdown",
   "metadata": {},
   "source": [
    "# 8 Review\n",
    "\n",
    "Let's go over some of the things we've learned in the past few lessons. We've looked at two important building blocks for making more sophisticated programs:\n",
    "- **Conditionals**: We use `if`, `elif`, and `else` to make decisions.\n",
    "- **Repetition**: We use `for` loops and `while` loops to repeat things."
   ]
  },
  {
   "cell_type": "markdown",
   "metadata": {},
   "source": [
    "If your program needs to make a choice and do something depending on a condition, `if`, `elif` (else if), and `else` are here to save the day! With an `if` statement, we check if a condition is `True` or `False`. If the condition is `True`, Python runs the indented code, and if it is `False`, Python skips ahead. To indent, press the tab key. Remember to include a colon `:` after the condition or Python will scream angrily at you!"
   ]
  },
  {
   "cell_type": "code",
   "execution_count": null,
   "metadata": {},
   "outputs": [],
   "source": [
    "# Try changing this and see what happens\n",
    "language = 'Python'\n",
    "\n",
    "if language == 'Python':\n",
    "    print('Python is awesome! 😍')"
   ]
  },
  {
   "cell_type": "markdown",
   "metadata": {},
   "source": [
    "To make more complicated decisions, we can use `elif` and `else`. If the top condition is `False`, Python will try again with the next `elif` condition, and so on, until it finds a condition that is `True`. If none of the conditions are `True`, the indented code below `else` is run. You can have as many `elif` statements as you want, but you can only have one `else` at the end of a conditional."
   ]
  },
  {
   "cell_type": "code",
   "execution_count": null,
   "metadata": {
    "tags": []
   },
   "outputs": [],
   "source": [
    "# Try changing this and see what happens\n",
    "language = 'Java'\n",
    "\n",
    "if language == 'Python':\n",
    "    print('Python is awesome! 😍')\n",
    "elif language == 'Java':\n",
    "    print('Java is OK. 🙃')\n",
    "elif language == 'C++':\n",
    "    print('C++ is pain. 😭')\n",
    "else:\n",
    "    print(language + ' is meh. 🤷')"
   ]
  },
  {
   "cell_type": "markdown",
   "metadata": {},
   "source": [
    "**Boolean** variables store a single `True` or `False` value. Booleans are useful because they can hold the result of a condition to use it later on. Additionally, you can change the value of a boolean as needed."
   ]
  },
  {
   "cell_type": "code",
   "execution_count": null,
   "metadata": {},
   "outputs": [],
   "source": [
    "number = 5\n",
    "if number < 4:\n",
    "    less = True\n",
    "else:\n",
    "    less = False\n",
    "\n",
    "# Prints False\n",
    "print(less)\n",
    "\n",
    "# We can use the value of less later\n",
    "if less:\n",
    "    print('Less')"
   ]
  },
  {
   "cell_type": "markdown",
   "metadata": {},
   "source": [
    "To make our conditions even more powerful, we can use `not`, `and`, and `or`. `not` will run the indented code if the condition is **not** `True`. `and` checks two conditions and only runs the indented code if **both** are conditions are `True`. `or` also checks two conditions but runs the indented code if **either** of the the conditions are `True`."
   ]
  },
  {
   "cell_type": "code",
   "execution_count": null,
   "metadata": {},
   "outputs": [],
   "source": [
    "language = 'C'\n",
    "\n",
    "if language == 'C' or language == 'C++' or language == 'C#':\n",
    "    print('Have fun! 😱')"
   ]
  },
  {
   "cell_type": "markdown",
   "metadata": {},
   "source": [
    "To repeat code a certain number of times, we can use a **`for` loop**. If we want to print all the numbers between `1` and `10`, we would use the following code:"
   ]
  },
  {
   "cell_type": "code",
   "execution_count": null,
   "metadata": {},
   "outputs": [],
   "source": [
    "for i in range(1, 11):\n",
    "    print(i)"
   ]
  },
  {
   "cell_type": "markdown",
   "metadata": {},
   "source": [
    "Each iteration of the `for` loop, `i` is set to `1`, then `2`, then `3`, and so on up to `10`. Note that `11`, the ending number of the `range( )`, is **not** included in the repetitions.\n",
    "\n",
    "In this example, we do something more complicated inside the `for` loop: We check if the current `i` is divisble by `2`, and if so, print it out. This code will print all the even numbers between `100` and `200` inclusive. Make sure you understand why we use `range(100, 201)` here!"
   ]
  },
  {
   "cell_type": "code",
   "execution_count": null,
   "metadata": {
    "collapsed": false,
    "jupyter": {
     "outputs_hidden": false
    }
   },
   "outputs": [],
   "source": [
    "for i in range(100, 201):\n",
    "    # Check if i is divisible by 2\n",
    "    if i % 2 == 0:\n",
    "        # If so, print out i\n",
    "        print(i)"
   ]
  },
  {
   "cell_type": "markdown",
   "metadata": {},
   "source": [
    "We typically use for loops when we know the number of repetitions in advance. If we don't know how many times we need to repeat, we use `while` loops. We can also use `while` loops anywhere that we use `for` loops, but we usually prefer `for` loops in those cases since they are more concise.\n",
    "\n",
    "Let's say we want to ask the user for a number, and print all the numbers between `1` and the inputted number:"
   ]
  },
  {
   "cell_type": "code",
   "execution_count": null,
   "metadata": {},
   "outputs": [],
   "source": [
    "n = int(input())\n",
    "\n",
    "i = 1\n",
    "while i <= n:\n",
    "    print(i)\n",
    "    i = i + 1"
   ]
  },
  {
   "cell_type": "markdown",
   "metadata": {},
   "source": [
    "\n",
    "The `while` loop will repeat *while* the condition is `False`. In this case, `i` is first set to `1`, then `2`, then `3`, and so on, until `i` becomes `n + 1`. At that point, the condition is now `False` and the loop ends."
   ]
  },
  {
   "cell_type": "markdown",
   "metadata": {},
   "source": [
    "Here's an example where we can use both `for` loops or `while` loops:"
   ]
  },
  {
   "cell_type": "code",
   "execution_count": null,
   "metadata": {},
   "outputs": [],
   "source": [
    "# Prints 0 * 0, 1 * 1, 2 * 2, ... 9 * 9\n",
    "for i in range(0, 10):\n",
    "    print(i * i)"
   ]
  },
  {
   "cell_type": "code",
   "execution_count": null,
   "metadata": {
    "collapsed": false,
    "jupyter": {
     "outputs_hidden": false
    }
   },
   "outputs": [],
   "source": [
    "# Prints 0 * 0, 1 * 1, 2 * 2, ... 9 * 9 as well\n",
    "i = 0\n",
    "while i * i < 100:\n",
    "    print(i * i)\n",
    "    i = i + 1"
   ]
  },
  {
   "cell_type": "markdown",
   "metadata": {},
   "source": [
    "## Activity 1: Python is the best!\n",
    "\n",
    "Bobert thinks Python is the best programming language. Ever. (Even though he doesn't know how to write Python.) Do you agree?\n",
    "\n",
    "Ask the user to type in a programming language, then print `The best` if they typed in `Python`, `OK` if they typed in `Java` or `JavaScript`, `Awful` if they typed in `C++` or `C`, and `Meh` otherwise."
   ]
  },
  {
   "cell_type": "code",
   "execution_count": null,
   "metadata": {
    "collapsed": false,
    "jupyter": {
     "outputs_hidden": false
    }
   },
   "outputs": [],
   "source": [
    "# Activity 1 code here\n"
   ]
  },
  {
   "cell_type": "markdown",
   "metadata": {},
   "source": [
    "## Activity 2: Python is the worst!\n",
    "\n",
    "Bobert's very controversial claim that Python is the best programming language ever has incited the anger of some JavaScript fantics! They want you to write a program that prints `'Python is the worst!'` `100` times! Will you give in to the hatred or resist?"
   ]
  },
  {
   "cell_type": "code",
   "execution_count": null,
   "metadata": {},
   "outputs": [],
   "source": [
    "# Activity 2 code here\n"
   ]
  },
  {
   "cell_type": "markdown",
   "metadata": {},
   "source": [
    "## Activity 3: What not to wear\n",
    "\n",
    "Billiam is trying to troll Bobert by writing a program that asks the user to input the current temperature and outputs an item of clothing that the user should not wear, such as wearing a t-shirt if it's freezing outside. Specifically, Billiam wants you to use `if` and `elif` to write four cases: when the weather is below `-40`, between `0` and `32`, between `42` and `69`, and above `100`. Help Billiam trick Bobert into wearing the wrong item of clothing and so Bobert can suffer acute bodily harm!"
   ]
  },
  {
   "cell_type": "code",
   "execution_count": null,
   "metadata": {},
   "outputs": [],
   "source": [
    "# Activity 3 code here\n"
   ]
  },
  {
   "cell_type": "markdown",
   "metadata": {},
   "source": [
    "## Activity 4: 🙃\n",
    "\n",
    "Bobert's code is broken and he's been debugging it for hours with no success. Bobert is so frustriggered he slams his computer on the floor and it shatters to a million pieces! The floor shatters, not the computer, to be specific. Help Bobert fix his code, which asks the user for a number and prints out `I will not damage private property` that number of times."
   ]
  },
  {
   "cell_type": "code",
   "execution_count": null,
   "metadata": {},
   "outputs": [],
   "source": [
    "# Activity 4 code here\n",
    "\n",
    "times = input()\n",
    "for i in range 1, times\n",
    "print(I will not damage private property)"
   ]
  },
  {
   "cell_type": "markdown",
   "metadata": {},
   "source": [
    "## Activity 5: 🤢\n",
    "\n",
    "Bella is feeling very nauseous after drinking bacon-flavored soda and vomited on her computer!!!\n",
    "\n",
    "Anyways, she was writing a program that asks the user for a number `n` and prints out the sum of the first `n` even numbers. Her code was so disgusting that seeing the sheer hideousness of her code actually caused the vomiting, not the soda. Since her computer is now totally shrecked, unlike Bobert's which is still in one piece, help her rewrite her program!"
   ]
  },
  {
   "cell_type": "code",
   "execution_count": null,
   "metadata": {},
   "outputs": [],
   "source": [
    "# Activity 5 code here\n"
   ]
  },
  {
   "cell_type": "markdown",
   "metadata": {},
   "source": [
    "## Activity 6: For-ever\n",
    "\n",
    "Billiam loves large numbers! Help him find the value of the product `1 * 2 * 3 * 4 * ... * 99 * 100` and print it out!"
   ]
  },
  {
   "cell_type": "code",
   "execution_count": null,
   "metadata": {},
   "outputs": [],
   "source": [
    "# Activity 6 code here\n"
   ]
  },
  {
   "cell_type": "markdown",
   "metadata": {},
   "source": [
    "## Activity 7: Insane fizz buzz\n",
    "\n",
    "Bobert would like to find the first `100` numbers that are multiples of `3` but not multiples of `5`. He has no idea how to start so help him out!"
   ]
  },
  {
   "cell_type": "code",
   "execution_count": null,
   "metadata": {
    "collapsed": false,
    "jupyter": {
     "outputs_hidden": false
    }
   },
   "outputs": [],
   "source": [
    "# Activity 7 code here\n"
   ]
  },
  {
   "cell_type": "markdown",
   "metadata": {},
   "source": [
    "## Activity 8: Password 3.0\n",
    "\n",
    "Let's say the user's password is `ilovepython`. Ask them to enter their password until they get it right. However, if they get three wrong attempts, tell them that they've been locked out!"
   ]
  },
  {
   "cell_type": "code",
   "execution_count": null,
   "metadata": {
    "collapsed": false,
    "jupyter": {
     "outputs_hidden": false
    }
   },
   "outputs": [],
   "source": [
    "# Activity 8 code here\n"
   ]
  },
  {
   "cell_type": "markdown",
   "metadata": {},
   "source": [
    "## Activity 9: Attack of the Pythons IV\n",
    "\n",
    "You are so tired from fighting Pythons, and they have now reproduced so much that you have no chance of fighting them all. So, you do the logical thing: run. Every second, you can run `2` meters. However, the Pythons are faster and can run (slither?) `4` meters in one second. Fortunately, you have a head start of `30` seconds. Your bunker is `100` meters away. Find out if you can reach your bunker before the Pythons catch up by writing a while loop to simulate your run!"
   ]
  },
  {
   "cell_type": "code",
   "execution_count": null,
   "metadata": {
    "collapsed": false,
    "jupyter": {
     "outputs_hidden": false
    }
   },
   "outputs": [],
   "source": [
    "# Activity 9 code here\n"
   ]
  },
  {
   "cell_type": "markdown",
   "metadata": {},
   "source": [
    "## Activity 10: Inverse sum\n",
    "\n",
    "Ask the user for a number `S`, and find the smallest `n`, so that `1 + 2 + 3 + ... + n` is greater or equal to `S`.\n",
    "\n",
    "Can you do it with a while loop? A for loop? With some math?"
   ]
  },
  {
   "cell_type": "code",
   "execution_count": null,
   "metadata": {
    "collapsed": false,
    "jupyter": {
     "outputs_hidden": false
    }
   },
   "outputs": [],
   "source": [
    "# Activity 10 code here\n"
   ]
  },
  {
   "cell_type": "markdown",
   "metadata": {},
   "source": [
    "## TL;DR\n",
    "\n",
    "Over the past few lessons, we learned how to make decisions and repeat things in our programs! With `if`, `elif`, and `else`, our program can make complex decisions and respond better to user input. With `for` and `while` loops, we can now repeat things a set number of times or until a condition is `True`.\n",
    "\n",
    "The next few lessons will have even more fun stuff, including buying bacon soda at a grocery store, discovering the *true* meaning of `print( )`, and using existing libraries written by completely random strangers on the internet to achieve world domination via Python!"
   ]
  }
 ],
 "metadata": {
  "kernelspec": {
   "display_name": "Python 3 (ipykernel)",
   "language": "python",
   "name": "python3"
  },
  "language_info": {
   "codemirror_mode": {
    "name": "ipython",
    "version": 3
   },
   "file_extension": ".py",
   "mimetype": "text/x-python",
   "name": "python",
   "nbconvert_exporter": "python",
   "pygments_lexer": "ipython3",
   "version": "3.10.9"
  }
 },
 "nbformat": 4,
 "nbformat_minor": 4
}
