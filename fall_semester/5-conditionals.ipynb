{
 "cells": [
  {
   "cell_type": "markdown",
   "metadata": {},
   "source": [
    "```\n",
    "INTRO TO\n",
    "    ______  __________  ______  _   __\n",
    "   / __ \\ \\/ /_  __/ / / / __ \\/ | / /\n",
    "  / /_/ /\\  / / / / /_/ / / / /  |/ / \n",
    " / ____/ / / / / / __  / /_/ / /|  /  \n",
    "/_/     /_/ /_/ /_/ /_/\\____/_/ |_/   \n",
    "```"
   ]
  },
  {
   "cell_type": "markdown",
   "metadata": {},
   "source": [
    "# 5 Conditionals\n",
    "\n",
    "We make decisions every day, such as what to eat for lunch or what to wear. We make these decisions based on our knowledge and outside conditions, such as what's in the fridge or the weather outside.\n",
    "\n",
    "How do computers make decisions? Let's look at some examples."
   ]
  },
  {
   "cell_type": "markdown",
   "metadata": {},
   "source": [
    "Let's say we have a variable called `temperature` which is the temperature outside (in degrees Fahrenheit, sorry metric users!). Based on the temperature, let's decide what to wear."
   ]
  },
  {
   "cell_type": "code",
   "execution_count": null,
   "metadata": {
    "collapsed": false,
    "jupyter": {
     "outputs_hidden": false
    }
   },
   "outputs": [],
   "source": [
    "# Current temperature is 20 degrees\n",
    "temperature = 20\n",
    "print('The temperature is ' + str(temperature))"
   ]
  },
  {
   "cell_type": "markdown",
   "metadata": {},
   "source": [
    "Pop quiz: why do we have to use `str( )` here?"
   ]
  },
  {
   "cell_type": "code",
   "execution_count": null,
   "metadata": {
    "collapsed": false,
    "jupyter": {
     "outputs_hidden": false
    }
   },
   "outputs": [],
   "source": [
    "if temperature < 32:\n",
    "    # It's really cold outside, what should I wear?\n",
    "    # This code runs when the temperature is less than 32\n",
    "    # Add something creative here!\n",
    "    print('It\\'s really cold, you should wear a ')"
   ]
  },
  {
   "cell_type": "markdown",
   "metadata": {},
   "source": [
    "Here, `temperature < 32` is a **condition**. It can either be `True` or `False`.\n",
    "- If it is `True`, Python will run the indented code below it.\n",
    "- If it is `False`, Python will **not** run the code and skip ahead.\n",
    "\n",
    "To indent, press the tab key. Remember to include a colon `:` after the condition!"
   ]
  },
  {
   "cell_type": "markdown",
   "metadata": {},
   "source": [
    "## Activity 1: Not cold\n",
    "\n",
    "The temperature outside has gotten warmer! Assign the variable `temperature` a value so that the condition is false and the indented code is not run."
   ]
  },
  {
   "cell_type": "code",
   "execution_count": null,
   "metadata": {},
   "outputs": [],
   "source": [
    "# Activity 1 code here\n",
    "\n",
    "temperature = 20\n",
    "\n",
    "if temperature < 32:\n",
    "    # It's really cold outside, what should I wear?\n",
    "    # This code runs when the temperature is less than 32\n",
    "    print('It\\'s really cold, you should wear a parka.')"
   ]
  },
  {
   "cell_type": "markdown",
   "metadata": {},
   "source": [
    "## Activity 2: Not hot\n",
    "\n",
    "The temperature outside has gotten colder! Create a variable `temperature`, assign it a low temperature, and then write a conditional that prints something out when the temperature is less than `50`. Make sure you add a `:` after the condition and indent!"
   ]
  },
  {
   "cell_type": "code",
   "execution_count": null,
   "metadata": {},
   "outputs": [],
   "source": [
    "# Activity 2 code here\n"
   ]
  },
  {
   "cell_type": "markdown",
   "metadata": {},
   "source": [
    "We can add an `else` case that runs when the condition is not true."
   ]
  },
  {
   "cell_type": "code",
   "execution_count": null,
   "metadata": {
    "collapsed": false,
    "jupyter": {
     "outputs_hidden": false
    }
   },
   "outputs": [],
   "source": [
    "# Current temperature is 40 degrees\n",
    "temperature = 40\n",
    "print('The temperature is ' + str(temperature))\n",
    "\n",
    "if temperature < 32:\n",
    "    # Runs when temperature is less than 32\n",
    "    # Add something creative here!\n",
    "    print('It\\'s really cold outside, you should wear a ')\n",
    "else:\n",
    "    # Otherwise, when temperature is NOT less than 32\n",
    "    # So temperature is greater of equal to 32\n",
    "    # Add something creative here!\n",
    "    print('It\\'s probably not that bad, you should wear a ')"
   ]
  },
  {
   "cell_type": "markdown",
   "metadata": {},
   "source": [
    "Cool! (Pun intended) But if we want to get even crazier, we can use `elif` (else if) to add more cases. The code for each case must be indented using the tab key!\n",
    "\n",
    "- Python will first check the top `if` condition. If it is `True`, Python will run the indented code below and skip over all the other `elif` and `else` conditions.\n",
    "- Otherwise, Python will check the next `elif` condition. If this one is `True`, Python will run the indented code below and skip over the remaining conditions.\n",
    "- Otherwise, Python will check the next `elif` condition, and so on.\n",
    "- Finally, if none of the conditions above were `True`, Python will run the indented code below the `else`.\n",
    "\n",
    "This sounds pretty complicated, so let's look at an example!"
   ]
  },
  {
   "cell_type": "code",
   "execution_count": null,
   "metadata": {
    "collapsed": false,
    "jupyter": {
     "outputs_hidden": false
    }
   },
   "outputs": [],
   "source": [
    "# Current temperature is 100 degrees\n",
    "# Change this and see what happens!\n",
    "temperature = 100\n",
    "print('The temperature is ' + str(temperature))\n",
    "\n",
    "if temperature < 32:\n",
    "    # Runs when temperature less than 32\n",
    "    print('Really cold')\n",
    "elif 60 <= temperature <= 80:\n",
    "    # We can test if a variable is in a certain range\n",
    "    # <= means less than or equal to\n",
    "    # Runs when temperature is between 60 and 80, inclusive\n",
    "    print('Pretty nice')\n",
    "else:\n",
    "    # Runs otherwise\n",
    "    print('No comment')\n",
    "    \n",
    "print('Done')"
   ]
  },
  {
   "cell_type": "markdown",
   "metadata": {},
   "source": [
    "We can also check if two things are equal with `==`."
   ]
  },
  {
   "cell_type": "code",
   "execution_count": null,
   "metadata": {
    "collapsed": false,
    "jupyter": {
     "outputs_hidden": false
    }
   },
   "outputs": [],
   "source": [
    "temperature = 70\n",
    "\n",
    "# Use == double equals to check equality\n",
    "if temperature == 70:\n",
    "    print('The temperature is perfect outside!')"
   ]
  },
  {
   "cell_type": "markdown",
   "metadata": {},
   "source": [
    "But what happens when you use a `=` single equals?"
   ]
  },
  {
   "cell_type": "code",
   "execution_count": null,
   "metadata": {
    "collapsed": false,
    "jupyter": {
     "outputs_hidden": false
    }
   },
   "outputs": [],
   "source": [
    "# WRONG! This is an error!\n",
    "if temperature = 70:\n",
    "    print('The temperature is perfect outside! Or is it?')"
   ]
  },
  {
   "cell_type": "markdown",
   "metadata": {},
   "source": [
    "This sets the value of `temperature` to `70` instead of checking equality! For conditions, you always want to use `==` double equals."
   ]
  },
  {
   "cell_type": "markdown",
   "metadata": {},
   "source": [
    "Here's another example of conditionals. This program asks the user to input a number, and then prints Billiam's opinion of that number."
   ]
  },
  {
   "cell_type": "code",
   "execution_count": null,
   "metadata": {},
   "outputs": [],
   "source": [
    "print('Type in a number')\n",
    "number = input()\n",
    "\n",
    "if number == 13:\n",
    "    print('This is Billiam\\'s lucky number!')\n",
    "elif number == 42:\n",
    "    print('This is the answer to ultimate question of life, the universe, and everything!')\n",
    "elif number > 100:\n",
    "    print('This number is too big!')\n",
    "elif number < 0:\n",
    "    print('This number is negative. Billiam loves negative numbers!')\n",
    "else:\n",
    "    print('Billiam doesn\\'t really care about this number.')"
   ]
  },
  {
   "cell_type": "markdown",
   "metadata": {},
   "source": [
    "## Activity 3: It's hot outside!\n",
    "\n",
    "Billiam is going to the Sahara desert. Add another case for when the temperature is above or equal to 80 degrees. Make you use `elif`!"
   ]
  },
  {
   "cell_type": "code",
   "execution_count": null,
   "metadata": {
    "collapsed": false,
    "jupyter": {
     "outputs_hidden": false
    }
   },
   "outputs": [],
   "source": [
    "# Activity 3 code here\n",
    "\n",
    "temperature = 90\n",
    "\n",
    "if temperature < 32:\n",
    "    # It's freezing outside!\n",
    "    print('It\\'s freezing! You should wear a parka.')\n",
    "# Add a case when the temperature is greater than or equal to 80\n"
   ]
  },
  {
   "cell_type": "markdown",
   "metadata": {
    "tags": []
   },
   "source": [
    "## Activity 4: It's nice outside!\n",
    "\n",
    "Bobert's favorite temperature range is `69` to `72` degrees. He can't stand if the temperature is too cold or too hot. Bobert has no idea how to write conditionals, so help him finish the code below that prints out his reaction."
   ]
  },
  {
   "cell_type": "code",
   "execution_count": null,
   "metadata": {
    "tags": []
   },
   "outputs": [],
   "source": [
    "# Activity 4 code here\n",
    "\n",
    "# Try changing this to test your code!\n",
    "temperature = 70\n",
    "\n",
    "# Finish this condition\n",
    "if\n",
    "    print('It\\'s too cold!')\n",
    "# Finish this condition\n",
    "elif\n",
    "    print('Wow! It feels nice outside.')\n",
    "else:\n",
    "    print('It\\'s too hot!')"
   ]
  },
  {
   "cell_type": "markdown",
   "metadata": {},
   "source": [
    "## Activity 5: Your age 2.0\n",
    "\n",
    "Ask the user to input their age, then tell them what stage of life (baby, kid, teen, adult, etc) they are in right now."
   ]
  },
  {
   "cell_type": "code",
   "execution_count": null,
   "metadata": {
    "collapsed": false,
    "jupyter": {
     "outputs_hidden": false
    }
   },
   "outputs": [],
   "source": [
    "# Activity 5 code here\n"
   ]
  },
  {
   "cell_type": "markdown",
   "metadata": {},
   "source": [
    "## Activity 6: Password\n",
    "\n",
    "We can use `len(your_string_here)` to get the length of a string:\n",
    "```python\n",
    "name = 'Billiam'\n",
    "print(len(name))  # Prints 7\n",
    "```\n",
    "\n",
    "Ask the user to input a password. If has a length less than `8` characters, tell them their password is insecure! Else, tell them that they chose a good password."
   ]
  },
  {
   "cell_type": "code",
   "execution_count": null,
   "metadata": {
    "collapsed": false,
    "jupyter": {
     "outputs_hidden": false
    }
   },
   "outputs": [],
   "source": [
    "# Activity 6 code here\n"
   ]
  },
  {
   "cell_type": "markdown",
   "metadata": {},
   "source": [
    "Now let's dive deeper into conditionals. Here the output will print `True` if the conditional is met and `False` if it is not."
   ]
  },
  {
   "cell_type": "code",
   "execution_count": null,
   "metadata": {
    "collapsed": false,
    "jupyter": {
     "outputs_hidden": false
    }
   },
   "outputs": [],
   "source": [
    "temperature = 60\n",
    "print(temperature < 32)\n",
    "print(temperature > 50)\n",
    "print(temperature > 90)"
   ]
  },
  {
   "cell_type": "markdown",
   "metadata": {},
   "source": [
    "We can assign a `True` or `False` value to a variable too!"
   ]
  },
  {
   "cell_type": "code",
   "execution_count": null,
   "metadata": {
    "collapsed": false,
    "jupyter": {
     "outputs_hidden": false
    }
   },
   "outputs": [],
   "source": [
    "cold_outside = True\n",
    "hot_outside = False"
   ]
  },
  {
   "cell_type": "markdown",
   "metadata": {},
   "source": [
    "In this example, `cold_outside` and `hot_outside` are **boolean** variables. Booleans are another type, like integers and strings. They can only store the values `True` or `False`."
   ]
  },
  {
   "cell_type": "markdown",
   "metadata": {},
   "source": [
    "Boolean variables are useful when we want to test multiple conditions, and then use the result later. For example, let's say it is nice outside if the temperature is between `60` and `80`."
   ]
  },
  {
   "cell_type": "code",
   "execution_count": null,
   "metadata": {
    "collapsed": false,
    "jupyter": {
     "outputs_hidden": false
    }
   },
   "outputs": [],
   "source": [
    "# First set nice_outside to True\n",
    "nice_outside = True\n",
    "\n",
    "# Try changing the temperature and see what happens\n",
    "temperature = 50\n",
    "\n",
    "# If the temperature is too cold, set it to False\n",
    "if temperature < 60:\n",
    "    nice_outside = False\n",
    "\n",
    "# If the temperature is too hot, set it to False\n",
    "if temperature > 80:\n",
    "    nice_outside = False\n",
    "\n",
    "print('Is it nice outside?')\n",
    "print(nice_outside)"
   ]
  },
  {
   "cell_type": "markdown",
   "metadata": {},
   "source": [
    "Booleans are useful if we might have changing values because the value of a boolean variable can be updated as needed. Let's say we wanted to see if the weather is nice outside for two days."
   ]
  },
  {
   "cell_type": "code",
   "execution_count": null,
   "metadata": {},
   "outputs": [],
   "source": [
    "# The temperature is 70 on the first day\n",
    "temperature = 70\n",
    "\n",
    "# Create a nice_outside variable and set it depending on the temperature\n",
    "if 60 <= temperature <= 80:\n",
    "    nice_outside = True\n",
    "else:\n",
    "    nice_outside = False\n",
    "\n",
    "print('Day 1: ' + str(nice_outside))\n",
    "\n",
    "\n",
    "# Now the temperature is 50 on the second day\n",
    "temperature = 50\n",
    "\n",
    "# Update the nice_outside variable using the temperature from the second day\n",
    "if 60 <= temperature <= 80:\n",
    "    nice_outside = True\n",
    "else:\n",
    "    nice_outside = False\n",
    "\n",
    "print('Day 2: ' + str(nice_outside))"
   ]
  },
  {
   "cell_type": "markdown",
   "metadata": {},
   "source": [
    "## Activity 7: Don't go outside with conditionals!\n",
    "\n",
    "Billiam is on Venus and he wants to know if it is safe to go outside. If the temperature is less than `20` or greater than `100`, he shouldn't go outside. Write some conditionals to help him!"
   ]
  },
  {
   "cell_type": "code",
   "execution_count": null,
   "metadata": {
    "collapsed": false,
    "jupyter": {
     "outputs_hidden": false
    }
   },
   "outputs": [],
   "source": [
    "# Activity 7 code here\n",
    "\n",
    "temperature = -40\n"
   ]
  },
  {
   "cell_type": "markdown",
   "metadata": {
    "tags": []
   },
   "source": [
    "## Activity 8: Don't go outside with booleans!\n",
    "\n",
    "Billiam is on Venus and he wants to know if it is safe to go outside. If the temperature is less than `20` or greater than `100`, he shouldn't go outside. Use a boolean variable to help him! The variable `can_go_outside` should contain whether Billiam can go outside or not at the end of the program."
   ]
  },
  {
   "cell_type": "code",
   "execution_count": null,
   "metadata": {
    "collapsed": false,
    "jupyter": {
     "outputs_hidden": false
    }
   },
   "outputs": [],
   "source": [
    "# Activity 8 code here\n",
    "\n",
    "temperature = -40\n",
    "can_go_outside = True\n"
   ]
  },
  {
   "cell_type": "markdown",
   "metadata": {},
   "source": [
    "To check more complicated conditions, we can use `not` to test if a boolean variable or condition is not `True`."
   ]
  },
  {
   "cell_type": "code",
   "execution_count": null,
   "metadata": {
    "collapsed": false,
    "jupyter": {
     "outputs_hidden": false
    }
   },
   "outputs": [],
   "source": [
    "nice_outside = False\n",
    "\n",
    "if not nice_outside:\n",
    "    print('Don\\'t go outside! It\\'s not nice outside!')\n",
    "else:\n",
    "    print('It\\'s nice outside!')"
   ]
  },
  {
   "cell_type": "markdown",
   "metadata": {},
   "source": [
    "We can use `and` to test if two conditions are both `True`."
   ]
  },
  {
   "cell_type": "code",
   "execution_count": null,
   "metadata": {
    "collapsed": false,
    "jupyter": {
     "outputs_hidden": false
    }
   },
   "outputs": [],
   "source": [
    "age = 18\n",
    "has_license = False\n",
    "\n",
    "if age >= 16 and has_license:\n",
    "    print('You are old enough and have a driver\\'s license. You can drive!')\n",
    "else:\n",
    "    print('You can\\'t drive yet!')"
   ]
  },
  {
   "cell_type": "markdown",
   "metadata": {},
   "source": [
    "We can use `or` to test if at least one of the two conditions is `True`."
   ]
  },
  {
   "cell_type": "code",
   "execution_count": null,
   "metadata": {},
   "outputs": [],
   "source": [
    "age = 18\n",
    "has_license = False\n",
    "\n",
    "if age < 16 or not has_license:\n",
    "    print('You are either not old enough or do not have a driver\\'s license. You can\\'t drive yet!')\n",
    "else:\n",
    "    print('You can drive!')"
   ]
  },
  {
   "cell_type": "markdown",
   "metadata": {
    "tags": []
   },
   "source": [
    "## Activity 9: Don't go outside with or!\n",
    "\n",
    "Billiam is on Venus and he wants to know if it is safe to go outside. If the temperature is less than `20` or greater than `100`, he shouldn't go outside. Write a conditional using `or` to help him!"
   ]
  },
  {
   "cell_type": "code",
   "execution_count": null,
   "metadata": {},
   "outputs": [],
   "source": [
    "# Activity 9 code here\n",
    "\n",
    "temperature = -40\n"
   ]
  },
  {
   "cell_type": "markdown",
   "metadata": {
    "tags": []
   },
   "source": [
    "## Activity 10: I love conditionals!\n",
    "\n",
    "Bobert is writing a complicated program to determine what to wear based on the temperature. He has some *very* specific requirements. If the weather is exactly `75` degrees, he wants to wear a t-shirt. Else, if the weather is between `0` and `32` degrees, inclusive, he wants to wear a gigantic coat. Else, if the weather is less than `40` or greater than `90`, he doesn't want to go outside. Else, if the weather is greater than `75`, he will wear a t-shirt and shorts. Else, if the weather is less or equal to than `50`, he will wear a jacket. Otherwise, he will wear a long-sleeved shirt.\n",
    "\n",
    "Since Bobert still doesn't know how to write conditionals, help Bobert finish his program to determine what he should wear!"
   ]
  },
  {
   "cell_type": "code",
   "execution_count": null,
   "metadata": {
    "collapsed": false,
    "jupyter": {
     "outputs_hidden": false
    }
   },
   "outputs": [],
   "source": [
    "# Activity 10 code here\n",
    "\n",
    "print('What\\'s the temperature outside?')\n",
    "temperature = input()\n"
   ]
  },
  {
   "cell_type": "markdown",
   "metadata": {},
   "source": [
    "## TL;DR\n",
    "\n",
    "We use **conditionals** to make decisions in our program. With an `if` statement, we check if a condition is `True` or `False`. If the condition is `True`, Python runs the indented code, and if it is `False`, Python skips ahead. To indent, press the tab key. Remember to include a colon `:` after the condition!\n",
    "```python\n",
    "number = 3\n",
    "if number < 5:\n",
    "    print('Less')\n",
    "```\n",
    "\n",
    "To make more complicated decisions, we can use `elif` and `else`. If the top condition is `False`, Python will try again with the next `elif` condition, and so on, until it finds a condition that is `True`. If none of the conditions are `True`, the indented code below `else` is run. You can have as many `elif` statements as you want, but you can only have one `else` at the end of a conditional.\n",
    "```python\n",
    "number = 5\n",
    "if number < 4:\n",
    "    # Not run because number is not less than 4\n",
    "    print('Less')\n",
    "elif number > 6:\n",
    "    # Not run because number is not greater than 6\n",
    "    print('Greater')\n",
    "else:\n",
    "    # Run because none of the previous conditions are True\n",
    "    print('Other')\n",
    "```\n",
    "\n",
    "**Boolean** variables store a single `True` or `False` value. Booleans are useful because they can hold the result of a condition to use it later on. Additionally, you can change the value of a boolean as needed.\n",
    "```python\n",
    "number = 5\n",
    "if number < 4:\n",
    "    less = True\n",
    "else:\n",
    "    less = False\n",
    "\n",
    "# Prints False\n",
    "print(less)\n",
    "\n",
    "# We can use the value of less later\n",
    "if less:\n",
    "    print('Less')\n",
    "```\n",
    "\n",
    "To make our conditions even more powerful, we can use `not`, `and`, and `or`. `not` will run the indented code if the condition is **not** `True`. `and` checks two conditions and only runs the indented code if **both** are conditions are `True`. `or` also checks two conditions but runs the indented code if **either** of the the conditions are `True`."
   ]
  }
 ],
 "metadata": {
  "kernelspec": {
   "display_name": "Python 3 (ipykernel)",
   "language": "python",
   "name": "python3"
  },
  "language_info": {
   "codemirror_mode": {
    "name": "ipython",
    "version": 3
   },
   "file_extension": ".py",
   "mimetype": "text/x-python",
   "name": "python",
   "nbconvert_exporter": "python",
   "pygments_lexer": "ipython3",
   "version": "3.10.9"
  }
 },
 "nbformat": 4,
 "nbformat_minor": 4
}
