{
 "cells": [
  {
   "cell_type": "markdown",
   "metadata": {},
   "source": [
    "```\n",
    "INTRO TO\n",
    "    ______  __________  ______  _   __\n",
    "   / __ \\ \\/ /_  __/ / / / __ \\/ | / /\n",
    "  / /_/ /\\  / / / / /_/ / / / /  |/ / \n",
    " / ____/ / / / / / __  / /_/ / /|  /  \n",
    "/_/     /_/ /_/ /_/ /_/\\____/_/ |_/   \n",
    "```"
   ]
  },
  {
   "cell_type": "markdown",
   "metadata": {
    "tags": []
   },
   "source": [
    "# 9 Lists\n",
    "\n",
    "Think about all the times you use lists in your daily life: shopping lists, to-do lists, schedules, [lists of lists](https://en.wikipedia.org/wiki/List_of_lists_of_lists), and on and on. Even that last sentence was a list!\n",
    "\n",
    "In Python, we can also store multiple items together in a **list**. Lists are **ordered** and can contain items of any type, even other lists.\n",
    "\n",
    "We define lists with square brackets `[]`. Here is an example of a list:"
   ]
  },
  {
   "cell_type": "code",
   "execution_count": null,
   "metadata": {
    "collapsed": false,
    "jupyter": {
     "outputs_hidden": false
    }
   },
   "outputs": [],
   "source": [
    "# A list of 4 numbers\n",
    "list1 = [1, 7, 2, 9]\n",
    "\n",
    "print(list1)\n",
    "print(type(list1))"
   ]
  },
  {
   "cell_type": "markdown",
   "metadata": {},
   "source": [
    "Her's another list that contains 4 values:\n",
    "- An integer, `1`\n",
    "- A string, `'hello'`\n",
    "- A boolean, `True`\n",
    "- Another list, `[2, 3]`"
   ]
  },
  {
   "cell_type": "code",
   "execution_count": null,
   "metadata": {
    "collapsed": false,
    "jupyter": {
     "outputs_hidden": false
    }
   },
   "outputs": [],
   "source": [
    "# A list of 4 values\n",
    "list2 = [1, 'hello', True, [2, 3]]\n",
    "\n",
    "print(list2)\n",
    "print(type(list2))"
   ]
  },
  {
   "cell_type": "markdown",
   "metadata": {},
   "source": [
    "## Activity 1: Create your own!\n",
    "\n",
    "Create your own list! It should be in the format `[name, age, favorite animal]`.\n",
    "\n",
    "After you create the list, print it out!"
   ]
  },
  {
   "cell_type": "code",
   "execution_count": null,
   "metadata": {
    "collapsed": false,
    "jupyter": {
     "outputs_hidden": false
    }
   },
   "outputs": [],
   "source": [
    "# Activity 1 code here\n"
   ]
  },
  {
   "cell_type": "markdown",
   "metadata": {},
   "source": [
    "## Activity 2: Favorites\n",
    "\n",
    "Since lists are ordered, we can store an ordered ranking of our favorite foods using a list! Create another list containing your top three favorite foods, in increasing order of deliciousness."
   ]
  },
  {
   "cell_type": "code",
   "execution_count": null,
   "metadata": {},
   "outputs": [],
   "source": [
    "# Activity 2 code here\n"
   ]
  },
  {
   "cell_type": "markdown",
   "metadata": {},
   "source": [
    "What can we do with lists? Let's say we have this shopping list:"
   ]
  },
  {
   "cell_type": "code",
   "execution_count": null,
   "metadata": {
    "collapsed": false,
    "jupyter": {
     "outputs_hidden": false
    }
   },
   "outputs": [],
   "source": [
    "shopping_list = ['bacon soda', 'evaporated milk', 'mayonnaise frosted cake']\n",
    "print(shopping_list)"
   ]
  },
  {
   "cell_type": "markdown",
   "metadata": {},
   "source": [
    "To get the length of a list, use `len( )`. This returns an integer, so we need to convert it to a string before mashing it together with another string."
   ]
  },
  {
   "cell_type": "code",
   "execution_count": null,
   "metadata": {
    "collapsed": false,
    "jupyter": {
     "outputs_hidden": false
    }
   },
   "outputs": [],
   "source": [
    "print('Number of items you need to buy: ' + str(len(shopping_list)))"
   ]
  },
  {
   "cell_type": "markdown",
   "metadata": {},
   "source": [
    "Now let's get an item at a certain position in the list. To get the first item, use `shopping_list[0]`:"
   ]
  },
  {
   "cell_type": "code",
   "execution_count": null,
   "metadata": {
    "collapsed": false,
    "jupyter": {
     "outputs_hidden": false
    }
   },
   "outputs": [],
   "source": [
    "print('First item: ' + shopping_list[0])"
   ]
  },
  {
   "cell_type": "markdown",
   "metadata": {},
   "source": [
    "Why is it `shopping_list[0]` instead of `shopping_list[1]`??? 🤔\n",
    "\n",
    "This is because when we get an item using `[ ]`, Python uses **indexes** instead of positions. Python (like most other programming languages) is **zero-indexed**, which means that index `0` corresponds to position `1`, index `1` corresponds to position `2`, index `2` corresponds to position `3`, and so on. It's a bit confusing at first, but you'll get used to it.\n",
    "\n",
    "Since the first item is at position `1`, it has index `0`. Therefore, we use `shopping_list[0]` to get the item at index `0`, or position `1`."
   ]
  },
  {
   "cell_type": "code",
   "execution_count": null,
   "metadata": {},
   "outputs": [],
   "source": [
    "print('First item (index 0): ' + shopping_list[0])"
   ]
  },
  {
   "cell_type": "markdown",
   "metadata": {},
   "source": [
    "To get the second item, or item at index `1`, we use `shopping_list[1]`."
   ]
  },
  {
   "cell_type": "code",
   "execution_count": null,
   "metadata": {
    "collapsed": false,
    "jupyter": {
     "outputs_hidden": false
    }
   },
   "outputs": [],
   "source": [
    "print('Second item (index 1): ' + shopping_list[1])"
   ]
  },
  {
   "cell_type": "markdown",
   "metadata": {},
   "source": [
    "We can get the third item, or item at index `2`, with `shopping_list[2]`."
   ]
  },
  {
   "cell_type": "code",
   "execution_count": null,
   "metadata": {
    "collapsed": false,
    "jupyter": {
     "outputs_hidden": false
    }
   },
   "outputs": [],
   "source": [
    "print('Third item (index 2): ' + shopping_list[2])"
   ]
  },
  {
   "cell_type": "markdown",
   "metadata": {},
   "source": [
    "Here's a helpful chart:\n",
    "```\n",
    "POSITION      1                2                      3\n",
    "INDEX         0                1                      2\n",
    "        ['bacon soda', 'evaporated milk', 'mayonnaise frosted cake']\n",
    "```"
   ]
  },
  {
   "cell_type": "markdown",
   "metadata": {},
   "source": [
    "Cool, let that weirdness sink into your brain for a minute...\n",
    "\n",
    "Alright, we can do something similar to modify the item at an index. For example, let's change the second item, the one at index `1`, to `'fruit roll-ups'`."
   ]
  },
  {
   "cell_type": "code",
   "execution_count": null,
   "metadata": {
    "collapsed": false,
    "jupyter": {
     "outputs_hidden": false
    }
   },
   "outputs": [],
   "source": [
    "shopping_list = ['bacon soda', 'evaporated milk', 'mayonnaise frosted cake']\n",
    "print('Old shopping list: ' + str(shopping_list))\n",
    "\n",
    "# Change the item at position 2, index 1\n",
    "shopping_list[1] = 'fruit roll-ups'\n",
    "print('New shopping list: ' + str(shopping_list))"
   ]
  },
  {
   "cell_type": "markdown",
   "metadata": {},
   "source": [
    "## Activity 3: Confusion\n",
    "\n",
    "Bobert is confused about positions and indices. He has a list `shopping_list` and would like to print out the following:\n",
    "- The item at index `3`\n",
    "- The item at position `3`\n",
    "- The item at index `0`\n",
    "\n",
    "Help him out!"
   ]
  },
  {
   "cell_type": "code",
   "execution_count": null,
   "metadata": {},
   "outputs": [],
   "source": [
    "# Activity 3 code here\n",
    "\n",
    "shopping_list = ['bacon soda', 'evaporated milk', 'mayonnaise frosted cake', 'spinach cookies']"
   ]
  },
  {
   "cell_type": "markdown",
   "metadata": {},
   "source": [
    "## Activity 4: First!\n",
    "\n",
    "Billiam and Bobert both made shopping lists. Print out the **first** item of each of the lists!"
   ]
  },
  {
   "cell_type": "code",
   "execution_count": null,
   "metadata": {
    "collapsed": false,
    "jupyter": {
     "outputs_hidden": false
    }
   },
   "outputs": [],
   "source": [
    "# Activity 4 code here\n",
    "\n",
    "Billiam_list = ['bread', 'biscuits', 'bottled water']\n",
    "Bobert_list = ['burgers', 'beef', 'bacon', 'bagels']\n"
   ]
  },
  {
   "cell_type": "markdown",
   "metadata": {},
   "source": [
    "## Activity 5: Last!\n",
    "\n",
    "Billiam and Bobert both made shopping lists. Print out the **last** item of each of the lists!\n",
    "\n",
    "How can we get the last item of any list?\n",
    "\n",
    "Hint: Use `len(your_list)` to get the length of a list. What is the position and index of the last item based on its length?"
   ]
  },
  {
   "cell_type": "code",
   "execution_count": null,
   "metadata": {
    "collapsed": false,
    "jupyter": {
     "outputs_hidden": false
    }
   },
   "outputs": [],
   "source": [
    "# Activity 5 code here\n",
    "\n",
    "Billiam_list = ['bread', 'biscuits', 'bottled water']\n",
    "Bobert_list = ['burgers', 'beef', 'bacon', 'bagels']\n"
   ]
  },
  {
   "cell_type": "markdown",
   "metadata": {},
   "source": [
    "How else can we modify lists?\n",
    "\n",
    "To add an item to the end of a list, use `.append( )`. You need to specify which list you want to modify, so in this example, it's `shopping_list.append( )`."
   ]
  },
  {
   "cell_type": "code",
   "execution_count": null,
   "metadata": {
    "collapsed": false,
    "jupyter": {
     "outputs_hidden": false
    }
   },
   "outputs": [],
   "source": [
    "shopping_list = ['bacon soda', 'evaporated milk', 'mayonnaise frosted cake']\n",
    "print('Old shopping list: ' + str(shopping_list))\n",
    "\n",
    "# Adds 'doritos' to the end of shopping_list\n",
    "shopping_list.append('doritos')\n",
    "print('New shopping list: ' + str(shopping_list))"
   ]
  },
  {
   "cell_type": "markdown",
   "metadata": {},
   "source": [
    "We can also insert a new item at any index with `.insert( )`:"
   ]
  },
  {
   "cell_type": "code",
   "execution_count": null,
   "metadata": {
    "collapsed": false,
    "jupyter": {
     "outputs_hidden": false
    }
   },
   "outputs": [],
   "source": [
    "shopping_list = ['bacon soda', 'evaporated milk', 'mayonnaise frosted cake']\n",
    "print('Old shopping list: ' + str(shopping_list))\n",
    "\n",
    "# Inserts 'doritos' at index 1, or position 2, of shopping_list\n",
    "shopping_list.insert(1, 'doritos')\n",
    "print('New shopping list: ' + str(shopping_list))"
   ]
  },
  {
   "cell_type": "markdown",
   "metadata": {},
   "source": [
    "To delete an item, use `.remove( )`:"
   ]
  },
  {
   "cell_type": "code",
   "execution_count": null,
   "metadata": {
    "collapsed": false,
    "jupyter": {
     "outputs_hidden": false
    }
   },
   "outputs": [],
   "source": [
    "shopping_list = ['bacon soda', 'evaporated milk', 'mayonnaise frosted cake']\n",
    "print('Old shopping list: ' + str(shopping_list))\n",
    "\n",
    "# Remove 'bacon soda' from shopping_list (because it's disgusting 🤮)\n",
    "shopping_list.remove('bacon soda')\n",
    "print('New shopping list: ' + str(shopping_list))"
   ]
  },
  {
   "cell_type": "markdown",
   "metadata": {},
   "source": [
    "And finally to delete an item at a certain index, use `.pop( )`:"
   ]
  },
  {
   "cell_type": "code",
   "execution_count": null,
   "metadata": {
    "collapsed": false,
    "jupyter": {
     "outputs_hidden": false
    }
   },
   "outputs": [],
   "source": [
    "shopping_list = ['bacon soda', 'evaporated milk', 'mayonnaise frosted cake']\n",
    "print('Old shopping list: ' + str(shopping_list))\n",
    "\n",
    "# Remove the item at index 1, or position 2, from shopping_list\n",
    "shopping_list.pop(1)\n",
    "print('New shopping list: ' + str(shopping_list))"
   ]
  },
  {
   "cell_type": "markdown",
   "metadata": {},
   "source": [
    "Whew, that was a lot!"
   ]
  },
  {
   "cell_type": "markdown",
   "metadata": {},
   "source": [
    "## Activity 6: One at a time!\n",
    "\n",
    "Ask the user for their name, age, and favorite animal. Add them to a list using `.append()`. Now print the list out!"
   ]
  },
  {
   "cell_type": "code",
   "execution_count": null,
   "metadata": {
    "collapsed": false,
    "jupyter": {
     "outputs_hidden": false
    }
   },
   "outputs": [],
   "source": [
    "# Activity 6 code here\n"
   ]
  },
  {
   "cell_type": "markdown",
   "metadata": {},
   "source": [
    "## Activity 7: Spam in a can\n",
    "\n",
    "Bobert is continuing his journey towards becoming a pro spammer. He wants you to write some code that asks the user to input a number `n`. Then, create a list that contains the string `'I love Python!'` `n` times!"
   ]
  },
  {
   "cell_type": "code",
   "execution_count": null,
   "metadata": {},
   "outputs": [],
   "source": [
    "# Activity 7 code here\n"
   ]
  },
  {
   "cell_type": "markdown",
   "metadata": {},
   "source": [
    "## Activity 8: Reversed! 2.0\n",
    "\n",
    "Bobert is absolutely stuck. He wants to create a list containing the first 10 positive integers in **reverse** order, but his brain is too tired to think about anything except sleep. Use your own brain and see if you can figure it out!\n",
    "\n",
    "Can you do it with `.append( )`? What about with `.insert( )`?"
   ]
  },
  {
   "cell_type": "code",
   "execution_count": null,
   "metadata": {
    "collapsed": false,
    "jupyter": {
     "outputs_hidden": false
    }
   },
   "outputs": [],
   "source": [
    "# Activity 8 code here\n"
   ]
  },
  {
   "cell_type": "markdown",
   "metadata": {},
   "source": [
    "Lists are extremely useful when paired with `for` loops! Yeah, you're probably all groaning because you thought you were done with loops, but you're never done with loops.\n",
    "\n",
    "What if we want to do something with each item in a list? This is called **iterating** through the list. Let's look at an example."
   ]
  },
  {
   "cell_type": "code",
   "execution_count": null,
   "metadata": {
    "collapsed": false,
    "jupyter": {
     "outputs_hidden": false
    }
   },
   "outputs": [],
   "source": [
    "shopping_list = ['bacon soda', 'evaporated milk', 'mayonnaise frosted cake']\n",
    "\n",
    "# We can iterate by index\n",
    "for i in range(0, len(shopping_list)):\n",
    "    print('Index: ' + str(i))\n",
    "    print('Item: ' + shopping_list[i])"
   ]
  },
  {
   "cell_type": "code",
   "execution_count": null,
   "metadata": {
    "collapsed": false,
    "jupyter": {
     "outputs_hidden": false
    }
   },
   "outputs": [],
   "source": [
    "shopping_list = ['bacon soda', 'evaporated milk', 'mayonnaise frosted cake']\n",
    "\n",
    "# We can also iterate for each item in the list\n",
    "for item in shopping_list:\n",
    "    print('Item: ' + item)"
   ]
  },
  {
   "cell_type": "markdown",
   "metadata": {},
   "source": [
    "Cool! Let's do something more interesting with each item of the list:"
   ]
  },
  {
   "cell_type": "code",
   "execution_count": null,
   "metadata": {},
   "outputs": [],
   "source": [
    "shopping_list = ['bacon soda', 'evaporated milk', 'mayonnaise frosted cake', 'doritos']\n",
    "\n",
    "# Iterate for each item in the list\n",
    "for item in shopping_list:\n",
    "    print(item)\n",
    "    if item == 'bacon soda':\n",
    "        print('🤮')\n",
    "    elif item == 'mayonnaise frosted cake':\n",
    "        print('🤢')\n",
    "    else:\n",
    "        print('🤷')"
   ]
  },
  {
   "cell_type": "markdown",
   "metadata": {
    "tags": []
   },
   "source": [
    "Bella wants to split a sentence string into a list of individual words. For example, she wants to turn `'Hello my name is Bella'` into `['Hello', 'my', 'name', 'is', 'Bella']`. Let's help her out!\n",
    "\n",
    "To do this, we can use `.split()`:"
   ]
  },
  {
   "cell_type": "code",
   "execution_count": null,
   "metadata": {
    "collapsed": false,
    "jupyter": {
     "outputs_hidden": false
    }
   },
   "outputs": [],
   "source": [
    "sentence = 'Hello my name is Bella'\n",
    "word_list = sentence.split()\n",
    "print(word_list)\n",
    "\n",
    "# Now we can iterate through the word_list!\n",
    "for word in word_list:\n",
    "    # Do something interesting\n",
    "    print(word + ' says hi')"
   ]
  },
  {
   "cell_type": "markdown",
   "metadata": {},
   "source": [
    "## Activity 9: Triple sum 2.0\n",
    "\n",
    "Billiam thinks you can't solve this activity. Prove him wrong!\n",
    "\n",
    "So here's your task: Ask the user for three numbers on one line. Use `.split()` to get the numbers as a list of strings. Then output the sum of the three numbers."
   ]
  },
  {
   "cell_type": "code",
   "execution_count": null,
   "metadata": {
    "collapsed": false,
    "jupyter": {
     "outputs_hidden": false
    }
   },
   "outputs": [],
   "source": [
    "# Activity 9 code here\n"
   ]
  },
  {
   "cell_type": "markdown",
   "metadata": {},
   "source": [
    "## Activity 10: I love lists!\n",
    "\n",
    "Billiam and Bobert have two lists. Add Bobert's list to the end of Billiam's list to get a longer list. Then print the value and data type of the items at positions (not index) `3` and `7` of the long list. "
   ]
  },
  {
   "cell_type": "code",
   "execution_count": null,
   "metadata": {
    "collapsed": false,
    "jupyter": {
     "outputs_hidden": false
    }
   },
   "outputs": [],
   "source": [
    "# Activity 10 code here\n",
    "\n",
    "Billiam_list = [2, 3.14, True, [1, 4]]\n",
    "Bobert_list = ['Hello', 'my', 'name', 'is', 'Bobert']\n"
   ]
  },
  {
   "cell_type": "markdown",
   "metadata": {},
   "source": [
    "## TL;DR\n",
    "\n",
    "In this lesson, we learned an extremely useful and versatile type, lists! Lists contain an **ordered** sequence of values of any data type. We define lists with square brackets, for example, `mylist = [1, 2, 'hello']`.\n",
    "\n",
    "To access an item at an **index** `i`, use `mylist[i]`. Lists are **0-indexed**, which means position `i` corresponds to index `i - 1`. Therefore, to get the first element, or index `0`, of `mylist`, we use `mylist[0]`. We can get the length of `mylist` with `len(mylist)`.\n",
    "\n",
    "To add or remove elements from a list, use `.append( )`, `.insert( )`, `.remove( )`, `.pop( )`. When using these, you have to specify which list you are modifying. For instance, to add the item `Bobert` to `mylist`, we would do `mylist.append('Bobert')`.\n",
    "\n",
    "Lists are even more powerful when combined with `for` loops. To iterate (loop over) all items in a list, either use `for i in range(0, len(mylist)):` or `for item in mylist:`. The second option is more concise but you don't know which index you are currently on. With the first option, your current index is stored in the `i` variable.\n",
    "\n",
    "To split a string into a list of \"words\", use `.split()`.\n",
    "\n",
    "Wow, that was a lot, but now you can appreciate the power of lists!"
   ]
  }
 ],
 "metadata": {
  "kernelspec": {
   "display_name": "Python 3 (ipykernel)",
   "language": "python",
   "name": "python3"
  },
  "language_info": {
   "codemirror_mode": {
    "name": "ipython",
    "version": 3
   },
   "file_extension": ".py",
   "mimetype": "text/x-python",
   "name": "python",
   "nbconvert_exporter": "python",
   "pygments_lexer": "ipython3",
   "version": "3.10.9"
  }
 },
 "nbformat": 4,
 "nbformat_minor": 4
}
