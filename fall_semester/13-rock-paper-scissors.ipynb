{
 "cells": [
  {
   "cell_type": "markdown",
   "metadata": {},
   "source": [
    "```\n",
    "INTRO TO\n",
    "    ______  __________  ______  _   __\n",
    "   / __ \\ \\/ /_  __/ / / / __ \\/ | / /\n",
    "  / /_/ /\\  / / / / /_/ / / / /  |/ / \n",
    " / ____/ / / / / / __  / /_/ / /|  /  \n",
    "/_/     /_/ /_/ /_/ /_/\\____/_/ |_/   \n",
    "```"
   ]
  },
  {
   "cell_type": "markdown",
   "metadata": {},
   "source": [
    "## 13 Rock Paper Scissors\n",
    "\n",
    "Time to create something fun with your Python skills! If you need help, feel free to ask your group leader."
   ]
  },
  {
   "cell_type": "markdown",
   "metadata": {
    "jupyter": {
     "outputs_hidden": false
    }
   },
   "source": [
    "First, we will make our lives easier by representing rock with `0`, paper with `1`, and scissors with `2`. This'll make everything a whole lot easier, and we can type `2` instead of the much longer scissors!"
   ]
  },
  {
   "cell_type": "markdown",
   "metadata": {},
   "source": [
    "In this game, we will be playing Rock Paper Scissors against the computer. Since the computer is just a dumb metal brick, it'll make a move randomly. Remember the `random` library from lesson 11? Write a function that returns randomly `0`, `1`, or `2`. This will be the computer's move. Remember to `import` the `random` library!"
   ]
  },
  {
   "cell_type": "code",
   "execution_count": null,
   "metadata": {},
   "outputs": [],
   "source": [
    "def get_computer_move():\n",
    "    "
   ]
  },
  {
   "cell_type": "markdown",
   "metadata": {},
   "source": [
    "Now time for the juicy part! Write a function that takes in two inputs, the user's move and the computer's move, which are both either `0`, `1`, `2`, representing the three kinds of moves. Return `1` (for player 1) if the user won, `2` (for player 2) if the computer won, and `0` if there is a tie."
   ]
  },
  {
   "cell_type": "code",
   "execution_count": null,
   "metadata": {},
   "outputs": [],
   "source": [
    "def check_win(user_move, computer_move):\n",
    "    "
   ]
  },
  {
   "cell_type": "markdown",
   "metadata": {},
   "source": [
    "Cool, let's put this all together now! Complete the missing code in the main game loop:"
   ]
  },
  {
   "cell_type": "code",
   "execution_count": null,
   "metadata": {},
   "outputs": [],
   "source": [
    "# Loop forever\n",
    "while True:\n",
    "    # Print a welcome message\n",
    "    \n",
    "    \n",
    "    # Ask the user to select either 0, 1, or 2 to make a move\n",
    "    player_move =\n",
    "    \n",
    "    # Get the computer's random move\n",
    "    computer_move =\n",
    "    \n",
    "    # Check who won and print out the results with a conditional\n",
    "    \n",
    "    \n",
    "    # Ask the user if they would like to play again\n",
    "    # If they respond with 'no', break out of the loop\n",
    "    \n",
    "    "
   ]
  },
  {
   "cell_type": "markdown",
   "metadata": {},
   "source": [
    "Cool! Now try polishing up your game and perhaps printing fancier messages!\n",
    "\n",
    "You can also try coding a more complex strategy for the dumb computer instead of simply selecting a random move."
   ]
  }
 ],
 "metadata": {
  "kernelspec": {
   "display_name": "Python 3 (ipykernel)",
   "language": "python",
   "name": "python3"
  },
  "language_info": {
   "codemirror_mode": {
    "name": "ipython",
    "version": 3
   },
   "file_extension": ".py",
   "mimetype": "text/x-python",
   "name": "python",
   "nbconvert_exporter": "python",
   "pygments_lexer": "ipython3",
   "version": "3.10.9"
  }
 },
 "nbformat": 4,
 "nbformat_minor": 4
}
