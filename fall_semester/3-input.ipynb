{
 "cells": [
  {
   "cell_type": "markdown",
   "metadata": {},
   "source": [
    "```\n",
    "INTRO TO\n",
    "    ______  __________  ______  _   __\n",
    "   / __ \\ \\/ /_  __/ / / / __ \\/ | / /\n",
    "  / /_/ /\\  / / / / /_/ / / / /  |/ / \n",
    " / ____/ / / / / / __  / /_/ / /|  /  \n",
    "/_/     /_/ /_/ /_/ /_/\\____/_/ |_/   \n",
    "```"
   ]
  },
  {
   "cell_type": "markdown",
   "metadata": {},
   "source": [
    "# 3 Input\n",
    "\n",
    "In this lesson, we're going to make **interactive** programs that the user can interact with. Like games!\n",
    "\n",
    "Let's say we want to find out what the user's name is. Fortunately, Python has a nifty little tool for doing this: `input()`. Let's look at an example!"
   ]
  },
  {
   "cell_type": "code",
   "execution_count": null,
   "metadata": {
    "collapsed": false,
    "jupyter": {
     "outputs_hidden": false
    }
   },
   "outputs": [],
   "source": [
    "# Let's get some info about you\n",
    "# Use \\' instead of ' to include a ' inside a string\n",
    "print('What\\'s your name?')\n",
    "\n",
    "# Hit the run button first# And then type in your name into the text box and hit enter\n",
    "your_name = input()"
   ]
  },
  {
   "cell_type": "markdown",
   "metadata": {},
   "source": [
    "`input()` will ask the user to type in something. Then we create a new variable called `your_name` and set its value equal to the input the user typed in. Let's print out `your_name` to check:"
   ]
  },
  {
   "cell_type": "code",
   "execution_count": null,
   "metadata": {
    "collapsed": false,
    "jupyter": {
     "outputs_hidden": false
    }
   },
   "outputs": [],
   "source": [
    "print('Your name is:')\n",
    "print(your_name)"
   ]
  },
  {
   "cell_type": "markdown",
   "metadata": {},
   "source": [
    "Let's ask the user for their age too!"
   ]
  },
  {
   "cell_type": "code",
   "execution_count": null,
   "metadata": {
    "collapsed": false,
    "jupyter": {
     "outputs_hidden": false
    }
   },
   "outputs": [],
   "source": [
    "# Let's get your age too\n",
    "# Use \\' instead of ' to include a ' inside a string\n",
    "print('What\\'s your age?')\n",
    "\n",
    "# Type in your age and hit enter\n",
    "your_age = input()\n",
    "\n",
    "print('Your age is:')\n",
    "print(your_age)"
   ]
  },
  {
   "cell_type": "markdown",
   "metadata": {},
   "source": [
    "## Activity 1: Not identity theft\n",
    "\n",
    "Bobert wants to get into the identity theft business so he also needs to figure out people's birthdays. Write a program that asks the user for their birthday and save it to a variable called `your_birthday`! This is *totally* ethical..."
   ]
  },
  {
   "cell_type": "code",
   "execution_count": null,
   "metadata": {},
   "outputs": [],
   "source": [
    "# Activity 1 code here\n"
   ]
  },
  {
   "cell_type": "markdown",
   "metadata": {},
   "source": [
    "## Activity 2: Question question\n",
    "\n",
    "This is a question about asking a question. Ask the user how old they are and get their input using `input()`. Then print a response: your own age."
   ]
  },
  {
   "cell_type": "code",
   "execution_count": null,
   "metadata": {
    "collapsed": false,
    "jupyter": {
     "outputs_hidden": false
    }
   },
   "outputs": [],
   "source": [
    "# Activity 2 code here\n"
   ]
  },
  {
   "cell_type": "markdown",
   "metadata": {
    "tags": []
   },
   "source": [
    "## Activity 3: Parrot\n",
    "\n",
    "Bella got a new pet Norwegian Blue parrot, but unfortunately the parrot died. She wants you to write a program that does the same thing as the parrot: ask the user to type in a sentence, save it to the variable `sentence`, and then print that sentence that the user typed in!"
   ]
  },
  {
   "cell_type": "code",
   "execution_count": null,
   "metadata": {},
   "outputs": [],
   "source": [
    "# Activity 3 code here\n"
   ]
  },
  {
   "cell_type": "markdown",
   "metadata": {},
   "source": [
    "Cool, now that you know how to ask the user for information, let's do something with their response:"
   ]
  },
  {
   "cell_type": "code",
   "execution_count": null,
   "metadata": {
    "collapsed": false,
    "jupyter": {
     "outputs_hidden": false
    }
   },
   "outputs": [],
   "source": [
    "print('What\\'s your age?')\n",
    "your_age = input()\n",
    "\n",
    "print('You are currently:')\n",
    "print(your_age)\n",
    "\n",
    "print('After your next birthday, you will be:')\n",
    "print(your_age + 1)"
   ]
  },
  {
   "cell_type": "markdown",
   "metadata": {},
   "source": [
    "Whoa! What happened?\n",
    "\n",
    "`input()` **always gets input as a a string**. Remember this, it's super important. So, `your_age` is a variable of **type string**. And you can't add 1 to a string, as we saw earlier!\n",
    "\n",
    "So, what should we do? What if there was some way we could **convert** a string to an integer...\n",
    "\n",
    "Well actually, there is! We can wrap any string value with `int( )`, and that will get that value, but as an integer."
   ]
  },
  {
   "cell_type": "code",
   "execution_count": null,
   "metadata": {
    "collapsed": false,
    "jupyter": {
     "outputs_hidden": false
    }
   },
   "outputs": [],
   "source": [
    "print('Your age, as a string:')\n",
    "print(your_age)\n",
    "\n",
    "# We can use int(your_age) to get the string your_age as an integer\n",
    "print('Your age, as an integer:')\n",
    "print(int(your_age))"
   ]
  },
  {
   "cell_type": "markdown",
   "metadata": {},
   "source": [
    "Note that when we did `int(your_age)`, we don't actually modify the value `your_age` is storing. `your_age` still stores a string."
   ]
  },
  {
   "cell_type": "code",
   "execution_count": null,
   "metadata": {
    "collapsed": false,
    "jupyter": {
     "outputs_hidden": false
    }
   },
   "outputs": [],
   "source": [
    "# Now it works!\n",
    "print('After your next birthday, you will be:')\n",
    "# Convert your_age to an integer, then add 1\n",
    "print(int(your_age) + 1)"
   ]
  },
  {
   "cell_type": "markdown",
   "metadata": {},
   "source": [
    "## Activity 4: Triple sum\n",
    "\n",
    "Bobert can find the sum of two numbers, but he can't do the quick maths needed to find the sum of three numbers. Ask the user for three integers, one at a time, then print their sum. Make sure you keep track of all the types of your variables!"
   ]
  },
  {
   "cell_type": "code",
   "execution_count": null,
   "metadata": {
    "collapsed": false,
    "jupyter": {
     "outputs_hidden": false
    }
   },
   "outputs": [],
   "source": [
    "# Activity 4 code here\n"
   ]
  },
  {
   "cell_type": "markdown",
   "metadata": {},
   "source": [
    "When we **add** two strings, we [mash them together](https://www.youtube.com/watch?v=Ct6BUPvE2sM) to create a new string. This called **concatenating** if you want to use the fancy word.\n",
    "```\n",
    "'Billiam' + 'Wender' = 'BilliamWender'\n",
    "```"
   ]
  },
  {
   "cell_type": "code",
   "execution_count": null,
   "metadata": {
    "collapsed": false,
    "jupyter": {
     "outputs_hidden": false
    }
   },
   "outputs": [],
   "source": [
    "first_name = 'Billiam'\n",
    "last_name = 'Wender'\n",
    "name = first_name + last_name\n",
    "\n",
    "print('His name is:')\n",
    "print(name)"
   ]
  },
  {
   "cell_type": "markdown",
   "metadata": {},
   "source": [
    "Oops! That doesn't look right. Let's add a space in the middle!"
   ]
  },
  {
   "cell_type": "code",
   "execution_count": null,
   "metadata": {
    "collapsed": false,
    "jupyter": {
     "outputs_hidden": false
    }
   },
   "outputs": [],
   "source": [
    "name = first_name + ' ' + last_name\n",
    "\n",
    "print('This should be better:')\n",
    "print(name)"
   ]
  },
  {
   "cell_type": "markdown",
   "metadata": {},
   "source": [
    "## Activity 5: Secret message\n",
    "\n",
    "Someone sent you a message, but it got split into two variables. Add the two string variables together to make another variable that makes the complete message and print it out. Who is the message from?"
   ]
  },
  {
   "cell_type": "code",
   "execution_count": null,
   "metadata": {
    "collapsed": false,
    "jupyter": {
     "outputs_hidden": false
    }
   },
   "outputs": [],
   "source": [
    "# Activity 5 code here\n",
    "\n",
    "first_part = 'Hello, my name '\n",
    "second_part = 'is Bella Wender'\n"
   ]
  },
  {
   "cell_type": "markdown",
   "metadata": {},
   "source": [
    "## Activity 6: Bobert goofs up, yes, again!\n",
    "\n",
    "Bobert wrote this code, but his code never works. Figure out what's wrong here and fix his code!"
   ]
  },
  {
   "cell_type": "code",
   "execution_count": null,
   "metadata": {
    "collapsed": false,
    "jupyter": {
     "outputs_hidden": false
    }
   },
   "outputs": [],
   "source": [
    "# Activity 6 code here\n",
    "\n",
    "ans = 5\n",
    "\n",
    "# Print 2 + 2 = 5\n",
    "print('2 + 2 = ' + ans)"
   ]
  },
  {
   "cell_type": "markdown",
   "metadata": {},
   "source": [
    "## Activity 7: Print me\n",
    "\n",
    "Billiam created two variables, `my_name` and `my_age`. Sure, you can print `my_name` and `my_age` using two separate print statements like this:\n",
    "```python\n",
    "print(my_name)\n",
    "print(my_age)\n",
    "```\n",
    "\n",
    "But you know what's cooler? Printing `my_name` and `my_age` using only one print statement. Make sure you get `my_age` as a string using `str( )`, since it's an currently an integer."
   ]
  },
  {
   "cell_type": "code",
   "execution_count": null,
   "metadata": {
    "collapsed": false,
    "jupyter": {
     "outputs_hidden": false
    }
   },
   "outputs": [],
   "source": [
    "# Activity 7 code here\n",
    "\n",
    "my_name = 'Billiam'\n",
    "my_age = 13\n"
   ]
  },
  {
   "cell_type": "markdown",
   "metadata": {
    "tags": []
   },
   "source": [
    "## Activity 8: Stuck in school\n",
    "\n",
    "Ask for the user's age, then ask them what age they think they will finish school. Print the number of years of school left for them!"
   ]
  },
  {
   "cell_type": "code",
   "execution_count": null,
   "metadata": {
    "collapsed": false,
    "jupyter": {
     "outputs_hidden": false
    }
   },
   "outputs": [],
   "source": [
    "# Activity 8 code here\n"
   ]
  },
  {
   "cell_type": "markdown",
   "metadata": {
    "tags": []
   },
   "source": [
    "## Activity 9: I love input!\n",
    "\n",
    "Billiam loves asking the user unusual questions. He wants you to ask the user for their favorite sushi roll and print your own favorite sushi roll. Then, he wants you to ask the user for their age, and you should print your own age. Can you then print out the sum of both of your ages?"
   ]
  },
  {
   "cell_type": "code",
   "execution_count": null,
   "metadata": {
    "collapsed": false,
    "jupyter": {
     "outputs_hidden": false
    }
   },
   "outputs": [],
   "source": [
    "# Activity 9 code here\n"
   ]
  },
  {
   "cell_type": "markdown",
   "metadata": {
    "tags": []
   },
   "source": [
    "## Activity 10: Tips\n",
    "\n",
    "Bobert is eating at his favorite restaurant, Bartholomew's Burgers, and needs to pay a 15% tip. Since Bobert barely knows any Python, help him write a program that asks the user for the price of the meal. This price should be saved to a variable called `price_of_meal`. Then, print out the `price_of_meal` times `0.15`! (Bonus: What are all the types of the values and variables in this problem? Check using `type( )`!)"
   ]
  },
  {
   "cell_type": "code",
   "execution_count": null,
   "metadata": {},
   "outputs": [],
   "source": [
    "# Activity 10 code here\n"
   ]
  },
  {
   "cell_type": "markdown",
   "metadata": {},
   "source": [
    "## TL;DR\n",
    "\n",
    "In this lesson, we learned how to make interactive programs! One step closer to making games! To get input from the user, use `input()` and save it to a variable. This variable will always contain a string value, so it will always have type `str`!\n",
    "\n",
    "We can convert between different types using `int( )` and `str( )`. If you convert a variable to another type, the variable itself is not modified! Always keep track of the types of your values and variables!"
   ]
  }
 ],
 "metadata": {
  "kernelspec": {
   "display_name": "Python 3 (ipykernel)",
   "language": "python",
   "name": "python3"
  },
  "language_info": {
   "codemirror_mode": {
    "name": "ipython",
    "version": 3
   },
   "file_extension": ".py",
   "mimetype": "text/x-python",
   "name": "python",
   "nbconvert_exporter": "python",
   "pygments_lexer": "ipython3",
   "version": "3.10.9"
  }
 },
 "nbformat": 4,
 "nbformat_minor": 4
}
