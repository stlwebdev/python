{
 "cells": [
  {
   "cell_type": "markdown",
   "metadata": {},
   "source": [
    "```\n",
    "INTRO TO\n",
    "    ______  __________  ______  _   __\n",
    "   / __ \\ \\/ /_  __/ / / / __ \\/ | / /\n",
    "  / /_/ /\\  / / / / /_/ / / / /  |/ / \n",
    " / ____/ / / / / / __  / /_/ / /|  /  \n",
    "/_/     /_/ /_/ /_/ /_/\\____/_/ |_/   \n",
    "```"
   ]
  },
  {
   "cell_type": "markdown",
   "metadata": {},
   "source": [
    "## 12 Review\n",
    "\n",
    "Over the past few lessons, we learned about lists, functions, and libraries. To call them \"very powerful\" would be an understatement. All Python projects are going to use lists, functions, and libraries at some point."
   ]
  },
  {
   "cell_type": "markdown",
   "metadata": {},
   "source": [
    "To store an ordered sequence of items, we can use **lists**. Lists are extremely versatile and can even contain other lists as items. Paired with for loops, they are even more powerful.\n",
    "\n",
    "Here's an example of a list:"
   ]
  },
  {
   "cell_type": "code",
   "execution_count": null,
   "metadata": {},
   "outputs": [],
   "source": [
    "my_list = ['Hello, world!', 42, [1, 2], False]"
   ]
  },
  {
   "cell_type": "markdown",
   "metadata": {},
   "source": [
    "Let's analyze the words in a sentence typed in by the user:"
   ]
  },
  {
   "cell_type": "code",
   "execution_count": null,
   "metadata": {
    "cocalc": {
     "outputs": {
      "1": {
       "name": "input",
       "opts": {
        "password": false,
        "prompt": ""
       },
       "output_type": "stream",
       "value": "hello"
      }
     }
    },
    "collapsed": false,
    "jupyter": {
     "outputs_hidden": false
    }
   },
   "outputs": [],
   "source": [
    "print('Type a sentence!')\n",
    "sentence = input()\n",
    "print('Your sentence was: ' + sentence)"
   ]
  },
  {
   "cell_type": "markdown",
   "metadata": {},
   "source": [
    "Now break up the sentence into a list of words:"
   ]
  },
  {
   "cell_type": "code",
   "execution_count": null,
   "metadata": {
    "collapsed": false,
    "jupyter": {
     "outputs_hidden": false
    }
   },
   "outputs": [],
   "source": [
    "words = sentence.split()"
   ]
  },
  {
   "cell_type": "markdown",
   "metadata": {},
   "source": [
    "Now iterate through each word in the list of words:"
   ]
  },
  {
   "cell_type": "code",
   "execution_count": null,
   "metadata": {
    "collapsed": false,
    "jupyter": {
     "outputs_hidden": false
    }
   },
   "outputs": [],
   "source": [
    "for word in words:\n",
    "    # Use len( ) to get the number of letters in a word\n",
    "    # len( ) returns us an integer, so we need to convert it to a string in order to mash it with the other strings\n",
    "    print(word + ' has ' + str(len(word)) + ' letters')"
   ]
  },
  {
   "cell_type": "markdown",
   "metadata": {},
   "source": [
    "Note that in Python, the first item on the list has index 0, the second has index 1, and so on. Position `i` always corresponds to index `i - 1`. The last item has index `len(your_list) - 1`, or index `-1` as shorthand."
   ]
  },
  {
   "cell_type": "markdown",
   "metadata": {},
   "source": [
    "We also looked at **functions**, which allow us to break up complicated tasks into smaller ones. Functions take in **inputs** and return **outputs**. Here's a function that takes in two numbers as inputs and outputs their difference:"
   ]
  },
  {
   "cell_type": "code",
   "execution_count": null,
   "metadata": {},
   "outputs": [],
   "source": [
    "def subtract_numbers(num1, num2):\n",
    "    num3 = num1 - num2\n",
    "    return num3"
   ]
  },
  {
   "cell_type": "markdown",
   "metadata": {},
   "source": [
    "What if we need to analyze a lot of sentences? Let's use a function!"
   ]
  },
  {
   "cell_type": "code",
   "execution_count": null,
   "metadata": {
    "collapsed": false,
    "jupyter": {
     "outputs_hidden": false
    }
   },
   "outputs": [],
   "source": [
    "def analyze_sentence(sentence): # Make sure you have the : colon here!\n",
    "    print('Your sentence was: ' + sentence)\n",
    "    words = sentence.split() # Break up sentence into a list of words\n",
    "\n",
    "    sum_of_word_lens = 0\n",
    "    for word in words:\n",
    "        # Use len( ) to get the number of letters in a word\n",
    "        # len( ) returns us an integer, so we need to convert it to a string in order to mash it with the other strings\n",
    "        print(word + ' has ' + str(len(word)) + ' letters')\n",
    "        sum_of_word_lens = len(word) + sum_of_word_lens\n",
    "\n",
    "    # Find the average\n",
    "    # len(words) gives us length of the list of words; basically the number of words in the sentence\n",
    "    average_word_length = sum_of_word_lens / len(words) \n",
    "    return average_word_length # Return the total sum of all the word len"
   ]
  },
  {
   "cell_type": "markdown",
   "metadata": {},
   "source": [
    "Now we can **call**, or use, our function on multiple sentences!"
   ]
  },
  {
   "cell_type": "code",
   "execution_count": null,
   "metadata": {
    "collapsed": false,
    "jupyter": {
     "outputs_hidden": false
    }
   },
   "outputs": [],
   "source": [
    "print(analyze_sentence('Hello my name is Bobert'))\n",
    "print(analyze_sentence('Bobert is better than Billiam'))\n",
    "print(analyze_sentence('I really really really love Python'))"
   ]
  },
  {
   "cell_type": "markdown",
   "metadata": {},
   "source": [
    "We can use **libraries** to build off of other people's code. We can either use libraries in the **Python Standard Library**, or install additional libraries from **PyPI** using **`pip`**.\n",
    "\n",
    "To use a library, you must `import` it. Afterwards, you can use any of the library's functions with `library.function()`.\n",
    "\n",
    "If you need help, try searching up your problem online! Make sure you specify `python` in your search so you don't get results for another language."
   ]
  },
  {
   "cell_type": "markdown",
   "metadata": {},
   "source": [
    "## Activity 1: List of lists\n",
    "\n",
    "Billiam has an odd task for you: create a list, with four items, where each item is the list `[1, 2, 3, 4]`. Help him out!"
   ]
  },
  {
   "cell_type": "code",
   "execution_count": null,
   "metadata": {},
   "outputs": [],
   "source": [
    "# Activity 1 code here\n"
   ]
  },
  {
   "cell_type": "markdown",
   "metadata": {
    "tags": []
   },
   "source": [
    "## Activity 2: List of odds\n",
    "\n",
    "Bobert wants to create a list of the first `100` odd numbers but he forgot how to use `for` loops. Oops! Please help him!"
   ]
  },
  {
   "cell_type": "code",
   "execution_count": null,
   "metadata": {},
   "outputs": [],
   "source": [
    "# Activity 2 code here\n"
   ]
  },
  {
   "cell_type": "markdown",
   "metadata": {
    "tags": []
   },
   "source": [
    "## Activity 3: Billiam vs. Bobert\n",
    "\n",
    "Billiam and Bobert are having a duel. In this duel, they are both trying to send large amounts of spam to each other. Fortunately for Bobert, Billiam's spam consists of only `I love Python!!!`. Write a spam detection function that takes in a string as an input and outputs a boolean based on whether or not the input string is `I love Python!!!`!"
   ]
  },
  {
   "cell_type": "code",
   "execution_count": null,
   "metadata": {},
   "outputs": [],
   "source": [
    "# Activity 3 code here\n"
   ]
  },
  {
   "cell_type": "markdown",
   "metadata": {
    "tags": []
   },
   "source": [
    "## Activity 4: Bobert vs. Bella\n",
    "\n",
    "Bobert and Bella are having a duel. In this duel, they are both trying to throw their computers in the air as high as possible without the computer breaking. Fortunately for Bella, Bobert's computer is very fragile and shatters if it's thrown above `2` meters. Write a prediction function that takes a number, the height Bobert's computer is thrown, as input and outputs a boolean based on whether or not the computer shatters."
   ]
  },
  {
   "cell_type": "code",
   "execution_count": null,
   "metadata": {},
   "outputs": [],
   "source": [
    "# Activity 4 code here\n"
   ]
  },
  {
   "cell_type": "markdown",
   "metadata": {
    "tags": []
   },
   "source": [
    "## Activity 5: Bella vs. Billiam\n",
    "\n",
    "Bella and Billiam are having a duel. In this duel, they are both trying to drink as many bacon sodas as possible in a minute. Fortunately for Billiam, Bella vomits whenever she drinks bacon soda and reads her own code. Write a function that takes in two booleans as input, whether Bella is drinking bacon soda and whether she is currently reading her own code, and outputs a boolean based on whether or not she will vomit."
   ]
  },
  {
   "cell_type": "code",
   "execution_count": null,
   "metadata": {},
   "outputs": [],
   "source": [
    "# Activity 5 code here\n"
   ]
  },
  {
   "cell_type": "markdown",
   "metadata": {},
   "source": [
    "## Activity 6: Attack of the Pythons V\n",
    "\n",
    "You are being attacked by an army of Pythons again! You've noticed that there are actually multiple species of Pythons attacking you, and each species requires a different type of weapon to slay. To prepare for your fight with the Pythons, you have a list of the species of each Python in the army. Write a function that takes in the list of species as a parameter and returns the number of unique species in that list."
   ]
  },
  {
   "cell_type": "code",
   "execution_count": null,
   "metadata": {
    "collapsed": false,
    "jupyter": {
     "outputs_hidden": false
    }
   },
   "outputs": [],
   "source": [
    "# Activity 6 code here\n",
    "\n",
    "army_species = ['Pythonidae billwenderi', 'Pythonidae bobertwenderi', 'Pythonidae samchooo', 'Pythonidae samchooo', 'Pythonidae billwenderi', 'Pythonidae samchooo', 'Pythonidae billwenderi', 'Pythonidae bobertwenderi']\n"
   ]
  },
  {
   "cell_type": "markdown",
   "metadata": {},
   "source": [
    "## Activity 7: Double all!\n",
    "\n",
    "Bobert has been having some trouble with this task and wants your help. Can you write a function that takes in a list and doubles all items in the list and returns the list?"
   ]
  },
  {
   "cell_type": "code",
   "execution_count": null,
   "metadata": {
    "collapsed": false,
    "jupyter": {
     "outputs_hidden": false
    }
   },
   "outputs": [],
   "source": [
    "# Activity 7 code here\n",
    "\n",
    "def double_list(my_list):\n"
   ]
  },
  {
   "cell_type": "markdown",
   "metadata": {},
   "source": [
    "## Activity 8: Attack of the Pythons VI\n",
    "\n",
    "The army of Pythons is attacking! It's the final showdown between you and the Pythons. Each Python has a health which is some integer. You have one long string consisting of the Pythons' healths separated with spaces. You want to know the Pythons' healths in increasing order so that you can attack the weakest Pythons first. Write a function that takes in a string of the healths as a parameter and outputs the string of the healths **sorted from least to greatest**.\n",
    "\n",
    "Hint: Convert the string to a list!"
   ]
  },
  {
   "cell_type": "code",
   "execution_count": null,
   "metadata": {
    "collapsed": false,
    "jupyter": {
     "outputs_hidden": false
    }
   },
   "outputs": [],
   "source": [
    "# Activity 8 code here\n",
    "\n",
    "healths_str = '256 874 94 32 25 943 566 514 433 80 42 246 347 578 125 949 454 446 680 120'\n"
   ]
  },
  {
   "cell_type": "markdown",
   "metadata": {},
   "source": [
    "## Activity 9: Todo\n",
    "\n",
    "Simulate a todo list! Ask the user to input the action they want to do: append or remove. Then ask for what item to append or remove and print the list after every action!"
   ]
  },
  {
   "cell_type": "code",
   "execution_count": null,
   "metadata": {
    "collapsed": false,
    "jupyter": {
     "outputs_hidden": false
    }
   },
   "outputs": [],
   "source": [
    "# Activity 9 code here\n"
   ]
  },
  {
   "cell_type": "markdown",
   "metadata": {},
   "source": [
    "## Activity 10: 4-*function* calculator\n",
    "\n",
    "Mimic a calculator, with operations as functions! Ask the user for a space separated math expression like `'2 + 2'` or `'9 / 2'`. Then, use `.split()` to split the input string into three words, for example, `['2', '+', '2']` or `['9', '/', '2']`. Now write functions for each operation and use the functions to evaluate the answer! Make sure you remember what the type of each variable is!"
   ]
  },
  {
   "cell_type": "code",
   "execution_count": null,
   "metadata": {
    "collapsed": false,
    "jupyter": {
     "outputs_hidden": false
    }
   },
   "outputs": [],
   "source": [
    "# Activity 10 code here\n"
   ]
  },
  {
   "cell_type": "markdown",
   "metadata": {},
   "source": [
    "## TL;DR\n",
    "\n",
    "You've now unlocked the next level of Python skills, with lists, functions, and libraries. **Lists** let us store many items in a list. **Functions** help us split our code into smaller pieces and automate repetitive code. **Libraries** let us reuse code that other people wrote. Enjoy your new superpowers!"
   ]
  }
 ],
 "metadata": {
  "kernelspec": {
   "display_name": "Python 3 (ipykernel)",
   "language": "python",
   "name": "python3"
  },
  "language_info": {
   "codemirror_mode": {
    "name": "ipython",
    "version": 3
   },
   "file_extension": ".py",
   "mimetype": "text/x-python",
   "name": "python",
   "nbconvert_exporter": "python",
   "pygments_lexer": "ipython3",
   "version": "3.10.9"
  }
 },
 "nbformat": 4,
 "nbformat_minor": 4
}
