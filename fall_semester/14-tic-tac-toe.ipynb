{
 "cells": [
  {
   "cell_type": "markdown",
   "metadata": {},
   "source": [
    "```\n",
    "INTRO TO\n",
    "    ______  __________  ______  _   __\n",
    "   / __ \\ \\/ /_  __/ / / / __ \\/ | / /\n",
    "  / /_/ /\\  / / / / /_/ / / / /  |/ / \n",
    " / ____/ / / / / / __  / /_/ / /|  /  \n",
    "/_/     /_/ /_/ /_/ /_/\\____/_/ |_/   \n",
    "```"
   ]
  },
  {
   "cell_type": "markdown",
   "metadata": {},
   "source": [
    "## 14 Tic-tac-toe\n",
    "\n",
    "Let's try making a more complex game, Tic-tac-toe. We'll be using a lot of lists and `for` loops, so get ready!"
   ]
  },
  {
   "cell_type": "markdown",
   "metadata": {},
   "source": [
    "### The game board\n",
    "\n",
    "We represent the 2D game board as a list of lists. Each of the 3 lists below represents a row of the board.\n",
    "\n",
    "We can use `board[0][0]` to access the value in the top left corner and `board[2][2]` to access the value in the bottom right corner.\n",
    "- `' '` represents an empty space\n",
    "- `'X'` represents player 1's X\n",
    "- `'O'` represents player 2's O"
   ]
  },
  {
   "cell_type": "code",
   "execution_count": null,
   "metadata": {
    "collapsed": false,
    "jupyter": {
     "outputs_hidden": false
    }
   },
   "outputs": [],
   "source": [
    "board = [[' ', ' ', ' '],\n",
    "         [' ', ' ', ' '],\n",
    "         [' ', ' ', ' ']]"
   ]
  },
  {
   "cell_type": "markdown",
   "metadata": {},
   "source": [
    "### Print the board\n",
    "\n",
    "Write a function to print the board. Make sure you print each row on a separate line!"
   ]
  },
  {
   "cell_type": "code",
   "execution_count": null,
   "metadata": {
    "collapsed": false,
    "jupyter": {
     "outputs_hidden": false
    }
   },
   "outputs": [],
   "source": [
    "def print_board():\n",
    "    "
   ]
  },
  {
   "cell_type": "markdown",
   "metadata": {},
   "source": [
    "### Check if board full\n",
    "\n",
    "Write a function to check if the board is full or not. Return `True` if the board is full and `False` otherwise."
   ]
  },
  {
   "cell_type": "code",
   "execution_count": null,
   "metadata": {
    "collapsed": false,
    "jupyter": {
     "outputs_hidden": false
    }
   },
   "outputs": [],
   "source": [
    "def check_full():\n",
    "    "
   ]
  },
  {
   "cell_type": "markdown",
   "metadata": {},
   "source": [
    "### Check win\n",
    "\n",
    "Write a function to check if a player has won. Return `1` if player 1 has won, `2` if player 2 has won, and `0` otherwise."
   ]
  },
  {
   "cell_type": "code",
   "execution_count": null,
   "metadata": {
    "collapsed": false,
    "jupyter": {
     "outputs_hidden": false
    }
   },
   "outputs": [],
   "source": [
    "def check_win():\n",
    "    "
   ]
  },
  {
   "cell_type": "markdown",
   "metadata": {},
   "source": [
    "### Add piece\n",
    "\n",
    "Write a function to add a piece to the board. This function takes the three parameters `row`, `column`, and `player_turn`, and you should add a new piece at the coordinates `(row, column)`.\n",
    "- Add `'X'` if `player_turn` is `1`, so it's player 1's turn\n",
    "- Add `'O'` if `player_turn` is `2`, so it's player 2's turn"
   ]
  },
  {
   "cell_type": "code",
   "execution_count": null,
   "metadata": {
    "collapsed": false,
    "jupyter": {
     "outputs_hidden": false
    }
   },
   "outputs": [],
   "source": [
    "def add_piece(row, column, player_turn):\n",
    "    "
   ]
  },
  {
   "cell_type": "markdown",
   "metadata": {},
   "source": [
    "### Main loop\n",
    "\n",
    "Here we're going to actually run the game! Complete the code below. Make sure you run all the cells above before you run the code in this cell."
   ]
  },
  {
   "cell_type": "code",
   "execution_count": null,
   "metadata": {
    "collapsed": false,
    "jupyter": {
     "outputs_hidden": false
    }
   },
   "outputs": [],
   "source": [
    "player_turn = 1\n",
    "\n",
    "# Loop forever\n",
    "while True:\n",
    "    # Print the board out\n",
    "    print_board()\n",
    "    \n",
    "    # First, tell the players whose turn it is\n",
    "    if player_turn == 1:\n",
    "        # Print that it's player 1's turn!\n",
    "        \n",
    "    else:\n",
    "        # Print that it's player 2's turn!\n",
    "        \n",
    "\n",
    "    # Boolean to represent if the player has placed a piece yet\n",
    "    piece_added = False\n",
    "    \n",
    "    # While the player hasn't placed their piece\n",
    "    while not piece_added:\n",
    "        # Ask for input\n",
    "        # We MUST convert them to integers because input returns a string!\n",
    "        print('Which row do you want to place your piece? ')\n",
    "        row = int(input())\n",
    "        print('Which column do you want to place your piece? ')\n",
    "        column = int(input())\n",
    "        \n",
    "        # Adjust positions to indices by subtracting 1\n",
    "        row = row - 1\n",
    "        column = column - 1\n",
    "        \n",
    "        # Check if board[row][column] is empty\n",
    "        if board[row][column] == ' ':\n",
    "            # Add a piece at coordinates row, column\n",
    "            add_piece(row, column, player_turn)\n",
    "            # We've added the piece, so piece_added is now True\n",
    "            piece_added = True\n",
    "        else:\n",
    "            # The spot is already used!\n",
    "            # Print something out!\n",
    "            \n",
    "    \n",
    "    who_won = check_win()\n",
    "    # Recall that 0 means no one won\n",
    "    if who_won != 0:\n",
    "        # Someone won!\n",
    "        # Print out who won!\n",
    "        \n",
    "        # break will stop the game loop and end the game\n",
    "        break\n",
    "    \n",
    "    # Make sure the game is still going and isn't in a draw\n",
    "    full = check_full()\n",
    "    if full:\n",
    "        # It's a draw!\n",
    "        # Print something out!\n",
    "        \n",
    "        break\n",
    "    \n",
    "    # Switch the player_turn\n",
    "    if player_turn == 1:\n",
    "        player_turn = 2\n",
    "    elif player_turn == 2:\n",
    "        player_turn = 1"
   ]
  }
 ],
 "metadata": {
  "kernelspec": {
   "display_name": "Python 3 (ipykernel)",
   "language": "python",
   "name": "python3"
  },
  "language_info": {
   "codemirror_mode": {
    "name": "ipython",
    "version": 3
   },
   "file_extension": ".py",
   "mimetype": "text/x-python",
   "name": "python",
   "nbconvert_exporter": "python",
   "pygments_lexer": "ipython3",
   "version": "3.10.9"
  }
 },
 "nbformat": 4,
 "nbformat_minor": 4
}
