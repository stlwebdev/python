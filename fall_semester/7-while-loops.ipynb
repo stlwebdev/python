{
 "cells": [
  {
   "cell_type": "markdown",
   "metadata": {},
   "source": [
    "```\n",
    "INTRO TO\n",
    "    ______  __________  ______  _   __\n",
    "   / __ \\ \\/ /_  __/ / / / __ \\/ | / /\n",
    "  / /_/ /\\  / / / / /_/ / / / /  |/ / \n",
    " / ____/ / / / / / __  / /_/ / /|  /  \n",
    "/_/     /_/ /_/ /_/ /_/\\____/_/ |_/   \n",
    "```"
   ]
  },
  {
   "cell_type": "markdown",
   "metadata": {
    "tags": []
   },
   "source": [
    "# 7 While Loops\n",
    "\n",
    "`for` loops are awesome, but sometimes, we don't know how many times we want to repeat something. Maybe we just want to repeat until a certain condition is satisfied. Fortunately, we have an even more powerful option: **`while` loops**.\n",
    "\n",
    "Here's an example:"
   ]
  },
  {
   "cell_type": "code",
   "execution_count": null,
   "metadata": {
    "collapsed": false,
    "jupyter": {
     "outputs_hidden": false
    }
   },
   "outputs": [],
   "source": [
    "# Ask the user to input their age\n",
    "print('How old are you?')\n",
    "your_age = int(input())\n",
    "\n",
    "while your_age < 16:\n",
    "    print('You are only ' + str(your_age) + '. You can\\'t drive yet!')\n",
    "    your_age = your_age + 1\n",
    "    print('A year passes...')\n",
    "\n",
    "print('You are ' + str(your_age) + '. You can drive now!')"
   ]
  },
  {
   "cell_type": "markdown",
   "metadata": {},
   "source": [
    "We use a `while` loop here because we don't know how many times we have to repeat. The user could be `2` or `12` or `102`!"
   ]
  },
  {
   "cell_type": "markdown",
   "metadata": {},
   "source": [
    "Make sure you always remember types!\n",
    "\n",
    "What type is `your_age`?\n",
    "\n",
    "What type is `your_age < 16`?\n",
    "\n",
    "Why do we have to do `str(your_age)` when printing?"
   ]
  },
  {
   "cell_type": "markdown",
   "metadata": {},
   "source": [
    "## Activity 1: College\n",
    "\n",
    "Billiam wants to know how many more years he has before going to college. Write a program that asks the user for their age, and loops while their age is less than 18. Each repetition of the loop, print out the user's current age and add one to their age to simulate a year passing."
   ]
  },
  {
   "cell_type": "code",
   "execution_count": null,
   "metadata": {},
   "outputs": [],
   "source": [
    "# Activity 1 code here\n"
   ]
  },
  {
   "cell_type": "markdown",
   "metadata": {},
   "source": [
    "## Activity 2: Password 2.0\n",
    "\n",
    "Alright, Bobert is getting into the professional password cracking industry as well. Pro spamming was fun and profitable... until people realized that `'I love Python!'` repeated `100` times is a surefire indicator that Bobert is attacking you with a spam attack. Let's say the user's password is `ilovepython`. Ask them to input their password until they get it right."
   ]
  },
  {
   "cell_type": "code",
   "execution_count": null,
   "metadata": {
    "collapsed": false,
    "jupyter": {
     "outputs_hidden": false
    }
   },
   "outputs": [],
   "source": [
    "# Activity 2 code here\n"
   ]
  },
  {
   "cell_type": "markdown",
   "metadata": {},
   "source": [
    "`while` loops can do everything that `for` loops can do. Compare these two programs: "
   ]
  },
  {
   "cell_type": "code",
   "execution_count": null,
   "metadata": {},
   "outputs": [],
   "source": [
    "for i in range(1, 11):\n",
    "    print(str(i) + ' says hi')"
   ]
  },
  {
   "cell_type": "code",
   "execution_count": null,
   "metadata": {},
   "outputs": [],
   "source": [
    "i = 1\n",
    "while i < 11:\n",
    "    print(str(i) + ' says hi')\n",
    "    i = i + 1"
   ]
  },
  {
   "cell_type": "markdown",
   "metadata": {},
   "source": [
    "Both programs print out the exact same thing. However, the `for` loop is more concise, so we usually use `for` loops when possible and `while` loops when we need more power!"
   ]
  },
  {
   "cell_type": "markdown",
   "metadata": {},
   "source": [
    "## Activity 3: For a while\n",
    "\n",
    "Bobert wrote the following program to spam people. He wants to rewrite his code to do the exact same thing, but use a `while` loop instead of a `for` loop. Help him!"
   ]
  },
  {
   "cell_type": "code",
   "execution_count": null,
   "metadata": {},
   "outputs": [],
   "source": [
    "# Activity 3 code here\n",
    "\n",
    "for i in range(1, 101):\n",
    "    print('I love Python!')\n"
   ]
  },
  {
   "cell_type": "markdown",
   "metadata": {},
   "source": [
    "## Activity 4: While for\n",
    "\n",
    "Bobert wrote another program to spam people. This program asks the user for how many times they want the program to print `I love Python!`. Help Bobert rewrite his code to do the exact same thing, but with a `for` loop instead of a `while` loop!"
   ]
  },
  {
   "cell_type": "code",
   "execution_count": null,
   "metadata": {},
   "outputs": [],
   "source": [
    "# Activity 3 code here\n",
    "\n",
    "print('How much spam?')\n",
    "total_spam = int(input())\n",
    "\n",
    "current_spam = 0\n",
    "while current_spam < total_spam:\n",
    "    print('I love Python!')\n",
    "    current_spam = current_spam + 1\n"
   ]
  },
  {
   "cell_type": "markdown",
   "metadata": {},
   "source": [
    "## Activity 5: Exponential growth\n",
    "\n",
    "Billiam has started a rabbit farm. A rabbit population starts out with `2` little itty-bitty rabbits. Each year, the population size doubles. Find the number of years before the population reaches `1000` using a while loop!"
   ]
  },
  {
   "cell_type": "code",
   "execution_count": null,
   "metadata": {
    "collapsed": false,
    "jupyter": {
     "outputs_hidden": false
    }
   },
   "outputs": [],
   "source": [
    "# Activity 5 code here\n"
   ]
  },
  {
   "cell_type": "markdown",
   "metadata": {},
   "source": [
    "Here's another example when we don't know how many times to repeat.\n",
    "\n",
    "Bella want to find out how long it takes for her to save up `100` dollars if she make `5` dollars a day. If she has to wait more than `10` days, she gives up, because who wants to wait that long?"
   ]
  },
  {
   "cell_type": "code",
   "execution_count": null,
   "metadata": {
    "cocalc": {
     "outputs": {
      "0": {
       "name": "input",
       "opts": {
        "password": false,
        "prompt": ""
       },
       "output_type": "stream"
      }
     }
    },
    "collapsed": false,
    "jupyter": {
     "outputs_hidden": false
    }
   },
   "outputs": [],
   "source": [
    "# Ask the user for their current amount of money\n",
    "money = int(input())\n",
    "\n",
    "# Let's say their income each day is 5 dollars\n",
    "income = 5\n",
    "\n",
    "# Let's find out how long it takes them to save up 100 dollars\n",
    "days = 0\n",
    "\n",
    "# If you have to wait more than 10 days, you give up\n",
    "give_up = False"
   ]
  },
  {
   "cell_type": "code",
   "execution_count": null,
   "metadata": {
    "collapsed": false,
    "jupyter": {
     "outputs_hidden": false
    }
   },
   "outputs": [],
   "source": [
    "while money < 100:\n",
    "    if days > 10:\n",
    "        # We don't want to wait so long!\n",
    "        # Let's give up!\n",
    "        give_up = True\n",
    "        \n",
    "        # We can stop looping immediately using break\n",
    "        break\n",
    "    \n",
    "    # You don't have enough, so you need another day\n",
    "    days = days + 1\n",
    "    \n",
    "    # Add your daily income to you current money\n",
    "    money = money + income"
   ]
  },
  {
   "cell_type": "markdown",
   "metadata": {},
   "source": [
    "Let's see how it went!"
   ]
  },
  {
   "cell_type": "code",
   "execution_count": null,
   "metadata": {
    "collapsed": false,
    "jupyter": {
     "outputs_hidden": false
    }
   },
   "outputs": [],
   "source": [
    "if not give_up:\n",
    "    # You didn't give up\n",
    "    print('You have to wait ' + str(days) + ' days to save up 100 dollars')\n",
    "else:\n",
    "    # Ah man, you gave up\n",
    "    print('You have to wait more than 10 days. I can\\'t wait that long!')"
   ]
  },
  {
   "cell_type": "markdown",
   "metadata": {},
   "source": [
    "## Activity 6: Exponential death\n",
    "\n",
    "Billiam has started a rabbit farm. A rabbit population starts out with `2` little itty-bitty rabbits. Each year, the population size doubles, but one poor little rabbit dies! Find the number of years before the population reaches `1000` using a while loop!"
   ]
  },
  {
   "cell_type": "code",
   "execution_count": null,
   "metadata": {},
   "outputs": [],
   "source": [
    "# Activity 6 code here\n"
   ]
  },
  {
   "cell_type": "markdown",
   "metadata": {},
   "source": [
    "## Activity 7: Exponential dinner\n",
    "\n",
    "Billiam has started a rabbit farm. A rabbit population starts out with `2` little itty-bitty rabbits. Each year, the population size doubles, but one poor little rabbit dies! Even worse, if the number of rabbits is a multiple of `4`, a mob of Pythons attacks and devours half of the rabbits. Find the number of years before the population reaches `1000` using a while loop!"
   ]
  },
  {
   "cell_type": "code",
   "execution_count": null,
   "metadata": {},
   "outputs": [],
   "source": [
    "# Activity 7 code here\n"
   ]
  },
  {
   "cell_type": "markdown",
   "metadata": {},
   "source": [
    "## Activity 8: Infinite loop\n",
    "\n",
    "Bobert wrote the following code for the exponential growth activity. What happens when the following code runs? How can we fix it?\n",
    "\n",
    "Note: Please stop the code after running it for a few seconds since it uses a lot of computing power."
   ]
  },
  {
   "cell_type": "code",
   "execution_count": null,
   "metadata": {
    "collapsed": false,
    "jupyter": {
     "outputs_hidden": false
    }
   },
   "outputs": [],
   "source": [
    "# Activity 8 code here\n",
    "\n",
    "num_rabbits = 2\n",
    "years = 0\n",
    "while num_rabbits > 0:\n",
    "    num_rabbits = 2 * num_rabbits\n",
    "    years = years + 1\n",
    "print(years)"
   ]
  },
  {
   "cell_type": "markdown",
   "metadata": {},
   "source": [
    "## Activity 9: Attack of the Pythons III\n",
    "\n",
    "An army of Pythons has taken over your city! You can't just hide in your bunker all day, so now you are going to fight the Pythons. Every second, you can kill `5` Pythons. However, every time you kill `5` Pythons, if there are any remaining Pythons, they will reproduce and the number of Pythons will increase by `3`. Find out how many seconds it takes for you to defeat all of the Pythons if you start out with:\n",
    "- `1` Python\n",
    "- `2` Pythons\n",
    "- `10` Pythons\n",
    "- `100` Pythons\n",
    "- `1000` Pythons"
   ]
  },
  {
   "cell_type": "code",
   "execution_count": null,
   "metadata": {
    "collapsed": false,
    "jupyter": {
     "outputs_hidden": false
    }
   },
   "outputs": [],
   "source": [
    "# Activity 9 code here\n"
   ]
  },
  {
   "cell_type": "markdown",
   "metadata": {},
   "source": [
    "## Activity 10: I love while loops!\n",
    "\n",
    "Bella really loves while loops because she doesn't need to predict how many times she needs to repeat, it just keeps on repeating until the condition is `False`. She wants to become a better pro spammer than Bobert, and she's going to use while loops to do so. She's going to print the same stuff as Bobert (she wants to print one line of `'Hello, world!'`, one line of `'enjoy the spaaaaaam'`, one line of `'This is repetition number i'`, and one line of `'spam detectors cant catch me loooool'`) but repeat it infinitely! Mwahahahaha! 😈"
   ]
  },
  {
   "cell_type": "code",
   "execution_count": null,
   "metadata": {
    "collapsed": false,
    "jupyter": {
     "outputs_hidden": false
    }
   },
   "outputs": [],
   "source": [
    "# Activity 10 code here\n"
   ]
  },
  {
   "cell_type": "markdown",
   "metadata": {},
   "source": [
    "## TL;DR\n",
    "\n",
    "In this lesson, we learned a more powerful alternative to the `for` loop: the **`while` loop**. We can use `while` loops when we don't know in advance how many times we want to loop. We can also use `while` loops anywhere that we use `for` loops, but we usually prefer `for` loops in those cases since they are more concise.\n",
    "\n",
    "Let's say we want to ask the user for a number, and print all the numbers between `1` and the inputted number:\n",
    "```python\n",
    "n = int(input())\n",
    "\n",
    "i = 1\n",
    "while i <= n:\n",
    "    print(i)\n",
    "    i = i + 1\n",
    "```\n",
    "\n",
    "The `while` loop will repeat *while* the condition is `False`. In this case, `i` is first set to `1`, then `2`, then `3`, and so on, until `i` becomes `n + 1`. At that point, the condition is now `False` and the loop ends."
   ]
  }
 ],
 "metadata": {
  "kernelspec": {
   "display_name": "Python 3 (ipykernel)",
   "language": "python",
   "name": "python3"
  },
  "language_info": {
   "codemirror_mode": {
    "name": "ipython",
    "version": 3
   },
   "file_extension": ".py",
   "mimetype": "text/x-python",
   "name": "python",
   "nbconvert_exporter": "python",
   "pygments_lexer": "ipython3",
   "version": "3.10.9"
  }
 },
 "nbformat": 4,
 "nbformat_minor": 4
}
