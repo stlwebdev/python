{
 "cells": [
  {
   "cell_type": "markdown",
   "metadata": {},
   "source": [
    "```\n",
    "INTRO TO\n",
    "    ______  __________  ______  _   __\n",
    "   / __ \\ \\/ /_  __/ / / / __ \\/ | / /\n",
    "  / /_/ /\\  / / / / /_/ / / / /  |/ / \n",
    " / ____/ / / / / / __  / /_/ / /|  /  \n",
    "/_/     /_/ /_/ /_/ /_/\\____/_/ |_/   \n",
    "```"
   ]
  },
  {
   "cell_type": "markdown",
   "metadata": {},
   "source": [
    "# 6 For Loops\n",
    "\n",
    "The world is full of repetition: you sleep and wake up every day, scientists repeat experiments many times to confirm their results, and [history repeats itself](https://en.wikipedia.org/wiki/Historic_recurrence#Similarities)!\n",
    "\n",
    "Computers were originally invented to automate computation, so they are also full of repetition. Let's see how we can use repetition in programs."
   ]
  },
  {
   "cell_type": "markdown",
   "metadata": {},
   "source": [
    "Let's say we want to print the numbers `1` through `10`. We could do this:"
   ]
  },
  {
   "cell_type": "code",
   "execution_count": null,
   "metadata": {
    "collapsed": false,
    "jupyter": {
     "outputs_hidden": false
    }
   },
   "outputs": [],
   "source": [
    "print(1)\n",
    "print(2)\n",
    "print(3)\n",
    "print(4)\n",
    "print(5)\n",
    "print(6)\n",
    "print(7)\n",
    "print(8)\n",
    "print(9)\n",
    "print(10)"
   ]
  },
  {
   "cell_type": "markdown",
   "metadata": {},
   "source": [
    "But what if we want to print the numbers from `1` to `100`? That's a lot of work!\n",
    "\n",
    "Instead, we can use a **`for` loop**!"
   ]
  },
  {
   "cell_type": "code",
   "execution_count": null,
   "metadata": {
    "collapsed": false,
    "jupyter": {
     "outputs_hidden": false
    }
   },
   "outputs": [],
   "source": [
    "for i in range(1, 101):\n",
    "    print(i)"
   ]
  },
  {
   "cell_type": "markdown",
   "metadata": {},
   "source": [
    "What does this do?\n",
    "\n",
    "Imagine it is a repeat button. It will repeat the code a certain amount of times.\n",
    "\n",
    "For our `for` loop above, it repeats for every `i` in the range `1` **inclusive** to `101` **exclusive**. This means that it will repeat for every number from `1` to `100`. Each iteration (repetition) of the loop, `i` is set to `1`, then `2`, then `3`, and so on all the way up to `100`.\n",
    "\n",
    "In general, a `for` loop in the `range(x, y)` will repeat for every number `x, x + 1, ..., y - 2, y - 1`. Note that `y` is **not** included!"
   ]
  },
  {
   "cell_type": "markdown",
   "metadata": {},
   "source": [
    "## Activity 1: Spammer\n",
    "\n",
    "Bobert wants to become a professional spammer. He needs you to help him print `'Python is awesome!!!'` `100` times!"
   ]
  },
  {
   "cell_type": "code",
   "execution_count": null,
   "metadata": {
    "collapsed": false,
    "jupyter": {
     "outputs_hidden": false
    }
   },
   "outputs": [],
   "source": [
    "# Activity 1 code here\n"
   ]
  },
  {
   "cell_type": "markdown",
   "metadata": {},
   "source": [
    "## Activity 2: Super spammer\n",
    "\n",
    "Bobert wants to get even better at pro spamming, so he needs you to help him print `'Python is awesome!!!'` `1000` times!"
   ]
  },
  {
   "cell_type": "code",
   "execution_count": null,
   "metadata": {},
   "outputs": [],
   "source": [
    "# Activity 2 code here\n"
   ]
  },
  {
   "cell_type": "markdown",
   "metadata": {},
   "source": [
    "Let's say we want to print all the numbers between `10` and `20` inclusive. Again, we can use a `range( )`, but this time, we want to start at `10` and end at `20`. Why do we use `range(10, 21)` here?"
   ]
  },
  {
   "cell_type": "code",
   "execution_count": null,
   "metadata": {},
   "outputs": [],
   "source": [
    "for i in range(10, 21):\n",
    "    print(i)"
   ]
  },
  {
   "cell_type": "markdown",
   "metadata": {},
   "source": [
    "## Activity 3: Between numbers\n",
    "\n",
    "Billiam wants to find the numbers between his two favorite numbers. Help him print all the numbers between `13` and `42` inclusive."
   ]
  },
  {
   "cell_type": "code",
   "execution_count": null,
   "metadata": {},
   "outputs": [],
   "source": [
    "# Activity 3 code here\n"
   ]
  },
  {
   "cell_type": "markdown",
   "metadata": {},
   "source": [
    "We can also do something more complicated inside the `for` loop. Let's say we want to print out all the numbers from `13` to `42` inclusive that are multiples of `5`. To accomplish this, let's use a conditional!\n",
    "\n",
    "Note that to check if a number `a` is divisible by another number `b`, check if the condition `a % b == 0` is `True`."
   ]
  },
  {
   "cell_type": "code",
   "execution_count": null,
   "metadata": {},
   "outputs": [],
   "source": [
    "for i in range(13, 43):\n",
    "    # Check if i is divisible by 5\n",
    "    if i % 5 == 0:\n",
    "        # If so, print out i\n",
    "        print(i)"
   ]
  },
  {
   "cell_type": "markdown",
   "metadata": {},
   "source": [
    "## Activity 4: Even numbers \n",
    "\n",
    "Billiam thinks numbers are cool, but even numbers are *even* cooler. Help him print the first `100` even numbers! Do you still remember conditionals?"
   ]
  },
  {
   "cell_type": "code",
   "execution_count": null,
   "metadata": {},
   "outputs": [],
   "source": [
    "# Activity 4 code here\n"
   ]
  },
  {
   "cell_type": "markdown",
   "metadata": {},
   "source": [
    "## Activity 5: Odd numbers\n",
    "\n",
    "Bobert on the other hand thinks that even numbers are for normies and that odd numbers are where it's at. Help Bobert print out the first `100` odd numbers!"
   ]
  },
  {
   "cell_type": "code",
   "execution_count": null,
   "metadata": {},
   "outputs": [],
   "source": [
    "# Activity 5 code here\n"
   ]
  },
  {
   "cell_type": "markdown",
   "metadata": {
    "tags": []
   },
   "source": [
    "## Activity 6: Reversed!\n",
    "\n",
    "Bobert is stuck on this activity, so can you help him? Print the numbers from `1` to `10` in **reverse order**!\n",
    "\n",
    "Hint: Instead of `print(i)`, what else could we do?"
   ]
  },
  {
   "cell_type": "code",
   "execution_count": null,
   "metadata": {
    "collapsed": false,
    "jupyter": {
     "outputs_hidden": false
    }
   },
   "outputs": [],
   "source": [
    "# Activity 6 code here\n"
   ]
  },
  {
   "cell_type": "markdown",
   "metadata": {},
   "source": [
    "Here's another example of `for` loops. Let's say we want to compute `1 * 2 * 3 * 4 * ... * 10`. Again, we can use a `for` loop to save time!"
   ]
  },
  {
   "cell_type": "code",
   "execution_count": null,
   "metadata": {
    "collapsed": false,
    "jupyter": {
     "outputs_hidden": false
    }
   },
   "outputs": [],
   "source": [
    "# Our product first starts at 1\n",
    "product = 1\n",
    "\n",
    "# i loops from 2, 3, 4... 10\n",
    "for i in range(2, 11):\n",
    "    # Each time, multiply the existing product by i\n",
    "    product = product * i\n",
    "\n",
    "print(product)"
   ]
  },
  {
   "cell_type": "markdown",
   "metadata": {
    "tags": []
   },
   "source": [
    "## Activity 7: Totally not cheating\n",
    "\n",
    "Bella wants you to help her with her math homework, because using Python to do all your math homework is totally not cheating. She needs you to write a program that asks the user for a number `n`, and print the sum of the first `n` positive numbers. Basically, print the sum `1 + 2 + 3 + ... + n`."
   ]
  },
  {
   "cell_type": "code",
   "execution_count": null,
   "metadata": {
    "collapsed": false,
    "jupyter": {
     "outputs_hidden": false
    }
   },
   "outputs": [],
   "source": [
    "# Activity 7 code here\n"
   ]
  },
  {
   "cell_type": "markdown",
   "metadata": {},
   "source": [
    "## Activity 8: I love for loops!\n",
    "\n",
    "Bobert is continuing his training to become a pro spammer. However, if he only prints `'Hello, world!'` a bunch of times, the spam detectors will find out and block him. So, he wants to print some more variety. So, he wants to print one line of `'Hello, world!'`, one line of `'enjoy the spaaaaaam'`, one line of `'This is repetition number i'` (where `i` is the variable that is looping), and one line of `'spam detectors cant catch me loooool'` and repeat this `100` times. Please help him!"
   ]
  },
  {
   "cell_type": "code",
   "execution_count": null,
   "metadata": {
    "collapsed": false,
    "jupyter": {
     "outputs_hidden": false
    }
   },
   "outputs": [],
   "source": [
    "# Activity 8 code here\n"
   ]
  },
  {
   "cell_type": "markdown",
   "metadata": {},
   "source": [
    "## Activity 9: Classic fizz buzz\n",
    "\n",
    "Billiam wants to find numbers that are divisible by `3` or divisible by `5`, but he has no idea how to do this. Help him find and print all the numbers between `100` and `200` inclusive that are divisible by `3` or `5`."
   ]
  },
  {
   "cell_type": "code",
   "execution_count": null,
   "metadata": {},
   "outputs": [],
   "source": [
    "# Activity 9 code here\n"
   ]
  },
  {
   "cell_type": "markdown",
   "metadata": {},
   "source": [
    "## Activity 10: Fun fizz buzz\n",
    "\n",
    "Billiam now wants to find numbers that are divisible by `3` and not divisible by `5`. Help him find and print all the numbers between `1` and `1000` inclusive that are divisible by `3` and not `5`."
   ]
  },
  {
   "cell_type": "code",
   "execution_count": null,
   "metadata": {},
   "outputs": [],
   "source": [
    "# Activity 10 code here\n"
   ]
  },
  {
   "cell_type": "markdown",
   "metadata": {},
   "source": [
    "## TL;DR\n",
    "\n",
    "To repeat code a certain number of times, we can use a **`for` loop**. If we want to print all the numbers between `1` and `10`, we would use the following code:\n",
    "```python\n",
    "for i in range(1, 11):\n",
    "    print(i)\n",
    "```\n",
    "\n",
    "Each iteration of the `for` loop, `i` is set to `1`, then `2`, then `3`, and so on up to `10`. Note that `11`, the ending number of the `range( )`, is **not** included in the repetitions.\n",
    "\n",
    "In this example, we do something more complicated inside the `for` loop: We check if the current `i` is divisble by `2`, and if so, print it out. This code will print all the even numbers between `100` and `200` inclusive. Make sure you understand why we use `range(100, 201)` here!\n",
    "\n",
    "```python\n",
    "for i in range(100, 201):\n",
    "    # Check if i is divisible by 2\n",
    "    if i % 2 == 0:\n",
    "        # If so, print out i\n",
    "        print(i)\n",
    "```"
   ]
  }
 ],
 "metadata": {
  "kernelspec": {
   "display_name": "Python 3 (ipykernel)",
   "language": "python",
   "name": "python3"
  },
  "language_info": {
   "codemirror_mode": {
    "name": "ipython",
    "version": 3
   },
   "file_extension": ".py",
   "mimetype": "text/x-python",
   "name": "python",
   "nbconvert_exporter": "python",
   "pygments_lexer": "ipython3",
   "version": "3.10.9"
  }
 },
 "nbformat": 4,
 "nbformat_minor": 4
}
