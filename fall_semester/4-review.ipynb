{
 "cells": [
  {
   "cell_type": "markdown",
   "metadata": {},
   "source": [
    "```\n",
    "INTRO TO\n",
    "    ______  __________  ______  _   __\n",
    "   / __ \\ \\/ /_  __/ / / / __ \\/ | / /\n",
    "  / /_/ /\\  / / / / /_/ / / / /  |/ / \n",
    " / ____/ / / / / / __  / /_/ / /|  /  \n",
    "/_/     /_/ /_/ /_/ /_/\\____/_/ |_/   \n",
    "```"
   ]
  },
  {
   "cell_type": "markdown",
   "metadata": {},
   "source": [
    "# 4 Review\n",
    "\n",
    "Let's go over what we learned in the last few lessons! We learned about printing, variables, and reading input."
   ]
  },
  {
   "cell_type": "markdown",
   "metadata": {},
   "source": [
    "**Printing** is fun and easy! Just use `print( )`."
   ]
  },
  {
   "cell_type": "code",
   "execution_count": null,
   "metadata": {
    "collapsed": false,
    "jupyter": {
     "outputs_hidden": false
    }
   },
   "outputs": [],
   "source": [
    "print('Printing is fun!')"
   ]
  },
  {
   "cell_type": "markdown",
   "metadata": {},
   "source": [
    "Remember, to print exact text, we need quotes. To print the result of a math expression, don't use quotes and Python will compute it for you."
   ]
  },
  {
   "cell_type": "code",
   "execution_count": null,
   "metadata": {},
   "outputs": [],
   "source": [
    "print('2 + 2')\n",
    "print(2 + 2)"
   ]
  },
  {
   "cell_type": "markdown",
   "metadata": {},
   "source": [
    "We can store things in **variables**. Variables have a **name**, **value**, and a **type**. The **type** of the variable is the kind of value it is storing.\n",
    "\n",
    "The type of a variable is **very important**! Always keep track of the type of your variables!"
   ]
  },
  {
   "cell_type": "code",
   "execution_count": null,
   "metadata": {
    "collapsed": false,
    "jupyter": {
     "outputs_hidden": false
    }
   },
   "outputs": [],
   "source": [
    "greeting = 'Hello!'\n",
    "print(greeting)\n",
    "print(type(greeting))"
   ]
  },
  {
   "cell_type": "markdown",
   "metadata": {},
   "source": [
    "Remember that **all variables have a value and a type**, and you can't mix and match different types. A good example is with addition. With two integers, addition simply adds them together:"
   ]
  },
  {
   "cell_type": "code",
   "execution_count": null,
   "metadata": {
    "collapsed": false,
    "jupyter": {
     "outputs_hidden": false
    }
   },
   "outputs": [],
   "source": [
    "sum = 2 + 2\n",
    "print(sum)"
   ]
  },
  {
   "cell_type": "markdown",
   "metadata": {},
   "source": [
    "We've seen two different types so far. One very common type is `int`. These are whole numbers."
   ]
  },
  {
   "cell_type": "code",
   "execution_count": null,
   "metadata": {},
   "outputs": [],
   "source": [
    "int1 = 1\n",
    "int2 = 0\n",
    "int3 = -13\n",
    "int4 = 9876543210123456789"
   ]
  },
  {
   "cell_type": "markdown",
   "metadata": {},
   "source": [
    "Another common type is `str`. These are text in quotes. Do you remember the difference between `123` and `'123'`?"
   ]
  },
  {
   "cell_type": "code",
   "execution_count": null,
   "metadata": {},
   "outputs": [],
   "source": [
    "str1 = 'Billiam Wender'\n",
    "str2 = '123'\n",
    "str4 = ''  # Empty string\n",
    "str5 = \"abc\"  # Single quotes and double quotes both work"
   ]
  },
  {
   "cell_type": "markdown",
   "metadata": {},
   "source": [
    "The reason we need quotes when printing exact text is because we are actually making a string value and printing it out."
   ]
  },
  {
   "cell_type": "code",
   "execution_count": null,
   "metadata": {},
   "outputs": [],
   "source": [
    "# Make a string value and print it out\n",
    "print('Bobert Wender')\n",
    "\n",
    "# Make a string variable and print it out\n",
    "text = 'Bobert Wender'\n",
    "print(text)"
   ]
  },
  {
   "cell_type": "markdown",
   "metadata": {},
   "source": [
    "You **cannot mix and match types** for many operations. For example, you can't add an integer and a string. If you ever get a `TypeError`, this is why."
   ]
  },
  {
   "cell_type": "code",
   "execution_count": null,
   "metadata": {},
   "outputs": [],
   "source": [
    "print(42 + 'hello')\n",
    "print(2 + '2')"
   ]
  },
  {
   "cell_type": "markdown",
   "metadata": {},
   "source": [
    "For strings, addition will mash together (concatenate) two strings:"
   ]
  },
  {
   "cell_type": "code",
   "execution_count": null,
   "metadata": {
    "collapsed": false,
    "jupyter": {
     "outputs_hidden": false
    }
   },
   "outputs": [],
   "source": [
    "full_name = 'Billiam' + ' ' + 'Wender'\n",
    "print(full_name)"
   ]
  },
  {
   "cell_type": "markdown",
   "metadata": {},
   "source": [
    "But addition doesn't work when the types are different!"
   ]
  },
  {
   "cell_type": "code",
   "execution_count": null,
   "metadata": {
    "collapsed": false,
    "jupyter": {
     "outputs_hidden": false
    }
   },
   "outputs": [],
   "source": [
    "# ERROR, '2' is a string while 2 is an integer\n",
    "bad = '2' + 2"
   ]
  },
  {
   "cell_type": "markdown",
   "metadata": {},
   "source": [
    "We can convert from one data type using functions like `int( )` and `str( )`. This is technically called casting. If you convert a variable to another type, the variable itself is not modified!"
   ]
  },
  {
   "cell_type": "markdown",
   "metadata": {},
   "source": [
    "We can get **input** using `input()`:"
   ]
  },
  {
   "cell_type": "code",
   "execution_count": null,
   "metadata": {
    "cocalc": {
     "outputs": {
      "1": {
       "name": "input",
       "opts": {
        "password": false,
        "prompt": ""
       },
       "output_type": "stream",
       "value": "5"
      }
     }
    },
    "collapsed": false,
    "jupyter": {
     "outputs_hidden": false
    }
   },
   "outputs": [],
   "source": [
    "print('What\\'s your grade?')\n",
    "# Creates a variable your_grade and saves the input to it\n",
    "your_grade = input()\n",
    "# Now your_grade contains whatever the user typed in\n",
    "\n",
    "# Mash together 'Your grade is ' and the variable your_grade\n",
    "print('Your grade is ' + your_grade)"
   ]
  },
  {
   "cell_type": "markdown",
   "metadata": {},
   "source": [
    "`input()` always gives us a string, so `your_grade` is a string.\n",
    "\n",
    "We have to **convert** `your_grade` to an integer before we can add `1`.\n",
    "\n",
    "Then, we need to convert it back into a string to concatenate it with `'Next year you will be in grade '`."
   ]
  },
  {
   "cell_type": "code",
   "execution_count": null,
   "metadata": {
    "collapsed": false,
    "jupyter": {
     "outputs_hidden": false
    }
   },
   "outputs": [],
   "source": [
    "print('Next year you will be in grade ' + str(int(your_grade) + 1))"
   ]
  },
  {
   "cell_type": "markdown",
   "metadata": {},
   "source": [
    "Let's say you have two strings, but you want to add their integer values. We can convert them to integers, then add."
   ]
  },
  {
   "cell_type": "code",
   "execution_count": null,
   "metadata": {},
   "outputs": [],
   "source": [
    "str1 = '1'\n",
    "str2 = '2'\n",
    "# Prints '12'\n",
    "print(str1 + str2)\n",
    "\n",
    "# Convert the strings to integers\n",
    "int1 = int(str1)\n",
    "int2 = int(str2)\n",
    "# Prints 3\n",
    "print(int1 + int2)"
   ]
  },
  {
   "cell_type": "markdown",
   "metadata": {},
   "source": [
    "## Activity 1: Multiplication overload!\n",
    "\n",
    "Too much multiplication! Multiply the 5 integer variables together, then print the output!"
   ]
  },
  {
   "cell_type": "code",
   "execution_count": null,
   "metadata": {},
   "outputs": [],
   "source": [
    "# Activity 1 code here\n",
    "\n",
    "int1 = 42\n",
    "int2 = 1729\n",
    "int3 = -1\n",
    "int4 = 998242353\n",
    "int5 = 13\n"
   ]
  },
  {
   "cell_type": "markdown",
   "metadata": {
    "tags": []
   },
   "source": [
    "## Activity 2: Super conversions!\n",
    "\n",
    "Billiam gave you the digits of two four digit numbers.\n",
    "1. First, mash together (concatenate) all the digits to form the two numbers `num1` and `num2` and print the two numbers out.\n",
    "2. Then print the sum `num1 + num2`.\n",
    "\n",
    "Hint: Remember what type we can mash together and what type we can do actual addition."
   ]
  },
  {
   "cell_type": "code",
   "execution_count": null,
   "metadata": {},
   "outputs": [],
   "source": [
    "# Activity 2 code here\n",
    "\n",
    "# Digits of num1\n",
    "num1_d1 = 1\n",
    "num1_d2 = 7\n",
    "num1_d3 = 2\n",
    "num1_d4 = 9\n",
    "\n",
    "# Digits of num2\n",
    "num2_d1 = 9\n",
    "num2_d2 = 8\n",
    "num2_d3 = 7\n",
    "num2_d4 = 6\n"
   ]
  },
  {
   "cell_type": "markdown",
   "metadata": {},
   "source": [
    "## Activity 3: I love types!\n",
    "\n",
    "Bobert created the three variables below. Now he wants to concatenate them all together and print the whole thing out, but he has no idea how to do that. Please help him!"
   ]
  },
  {
   "cell_type": "code",
   "execution_count": null,
   "metadata": {},
   "outputs": [],
   "source": [
    "# Activity 3 code here\n",
    "\n",
    "var1 = 2 + 2\n",
    "var2 = 'Bobert Wender'\n",
    "var3 = -42\n"
   ]
  },
  {
   "cell_type": "markdown",
   "metadata": {
    "tags": []
   },
   "source": [
    "## Activity 4: Parrot 2.0\n",
    "\n",
    "Bella isn't convinced the parrot program you wrote in the last lesson is a good replacement for her dead parrot. Now she wants you to write a program that asks the user to type in a sentence, save it to the variable `sentence`, and then print that sentence that the user typed in *three times*!"
   ]
  },
  {
   "cell_type": "code",
   "execution_count": null,
   "metadata": {},
   "outputs": [],
   "source": [
    "# Activity 4 code here\n"
   ]
  },
  {
   "cell_type": "markdown",
   "metadata": {
    "tags": []
   },
   "source": [
    "## Activity 5: Python essay\n",
    "\n",
    "Billiam thinks Python is an amazing programming language and responsible for why he's such an awesome guy. To prove this, he wants you to write five sentences about why you love Python, and print out each sentence on its own line."
   ]
  },
  {
   "cell_type": "code",
   "execution_count": null,
   "metadata": {},
   "outputs": [],
   "source": [
    "# Activity 5 code here\n"
   ]
  },
  {
   "cell_type": "markdown",
   "metadata": {},
   "source": [
    "## Activity 6: Bobert goofs up once again\n",
    "\n",
    "Bobert wrote the code below, but it doesn't work for some reason. Can you find out why?\n",
    "\n",
    "Can you make the code mash together all the variables and print one long string? (It should look like `-42131729-5`)\n",
    "\n",
    "Can you make the code actually add the variables together and print the result? (It should look like `1695`)"
   ]
  },
  {
   "cell_type": "code",
   "execution_count": null,
   "metadata": {
    "collapsed": false,
    "jupyter": {
     "outputs_hidden": false
    }
   },
   "outputs": [],
   "source": [
    "# Activity 6 code here\n",
    "\n",
    "var1 = -42\n",
    "var2 = '13'\n",
    "var3 = 1729\n",
    "var4 = '-5'\n",
    "print(var1 + var2 + var3 + var4)\n"
   ]
  },
  {
   "cell_type": "markdown",
   "metadata": {},
   "source": [
    "## Activity 7: Conversational\n",
    "\n",
    "Have a nice conversation using `input()` and `print( )`!\n",
    "\n",
    "For instance:\n",
    "- Ask for Name\n",
    "- Respond, then ask for favorite subject\n",
    "- Respond, ask for something else\n",
    "- And so on..."
   ]
  },
  {
   "cell_type": "code",
   "execution_count": null,
   "metadata": {
    "collapsed": false,
    "jupyter": {
     "outputs_hidden": false
    }
   },
   "outputs": [],
   "source": [
    "# Activity 7 code here\n",
    "\n",
    "print('What\\'s your name?')\n",
    "response1 = input()\n",
    "print('Hi ' + response1 + ', my name is Python')\n",
    "print('What\\'s your favorite subject?')\n",
    "response2 = input()\n"
   ]
  },
  {
   "cell_type": "markdown",
   "metadata": {},
   "source": [
    "## Activity 8: Attack of the Pythons II\n",
    "\n",
    "Since it seems like Pythons can do math a lot better than you, you have designed a new password system involving strings. However, you locked yourself outside the bunker, but you remember that your new password is the sum of the month and the day of your birthday, concatenated (mashed together) with your middle name. Ask the user for the month of their birthday, then the day of their birthday, and then their middle name. Print out what the password would be under the new system!"
   ]
  },
  {
   "cell_type": "code",
   "execution_count": null,
   "metadata": {
    "collapsed": false,
    "jupyter": {
     "outputs_hidden": false
    }
   },
   "outputs": [],
   "source": [
    "# Activity 8 code here\n"
   ]
  },
  {
   "cell_type": "markdown",
   "metadata": {},
   "source": [
    "## Activity 9 Cowsay\n",
    "\n",
    "Want to go the extra mile? Try this challenge:\n",
    "\n",
    "Read in a string from the user, in this case `'Hello world!'`, and print out a cow saying it like this:\n",
    "\n",
    "```\n",
    "Hello world!\n",
    "     \\   ^__^\n",
    "      \\  (oo)\\_______\n",
    "         (__)\\       )?\n",
    "             ||----w |\n",
    "             ||     ||\n",
    "```"
   ]
  },
  {
   "cell_type": "code",
   "execution_count": null,
   "metadata": {
    "collapsed": false,
    "jupyter": {
     "outputs_hidden": false
    }
   },
   "outputs": [],
   "source": [
    "# Activity 9 code here\n"
   ]
  },
  {
   "cell_type": "markdown",
   "metadata": {},
   "source": [
    "## Activity 10: Mad libs\n",
    "\n",
    "Want to go the extra two miles? Try this challenge:\n",
    "\n",
    "Try making a mad-libs activity! First think of a topic, then ask the user to fill in the blanks in the sentences. Then, print out the completed paragraph. If you're having trouble, you can check previous examples or ask for help!"
   ]
  },
  {
   "cell_type": "code",
   "execution_count": null,
   "metadata": {
    "collapsed": false,
    "jupyter": {
     "outputs_hidden": false
    }
   },
   "outputs": [],
   "source": [
    "# Activity 10 code here\n"
   ]
  },
  {
   "cell_type": "markdown",
   "metadata": {},
   "source": [
    "## TL;DR\n",
    "\n",
    "With our tools printing, variables, and input, we can do some pretty powerful stuff! We can use printing to output things, variables to store information in the computer's memory, and input to ask the user for things.\n",
    "\n",
    "In the next lesson, we'll learn some even more powerful things like conditionals and loops to decide what kind of clothes to wear on Venus and to help Billiam become a professional spammer. Lots of cool stuff coming up!"
   ]
  }
 ],
 "metadata": {
  "kernelspec": {
   "display_name": "Python 3 (ipykernel)",
   "language": "python",
   "name": "python3"
  },
  "language_info": {
   "codemirror_mode": {
    "name": "ipython",
    "version": 3
   },
   "file_extension": ".py",
   "mimetype": "text/x-python",
   "name": "python",
   "nbconvert_exporter": "python",
   "pygments_lexer": "ipython3",
   "version": "3.10.9"
  }
 },
 "nbformat": 4,
 "nbformat_minor": 4
}
