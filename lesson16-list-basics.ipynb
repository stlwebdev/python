{
   "cells": [
      {
         "cell_type": "markdown",
         "metadata": {},
         "source": [
            "# Python Lists\n",
            "\n",
            "We will cover the basics of Python lists, including:\n",
            "- Creating lists\n",
            "- Accessing elements\n",
            "- Modifying lists\n",
            "- List methods\n",
            "- List comprehensions\n",
            "\n",
            "Let's get started!"
         ]
      },
      {
         "cell_type": "markdown",
         "metadata": {},
         "source": [
            "## Creating Lists\n",
            "\n",
            "A list in Python is created by placing elements inside square brackets `[]`, separated by commas. Lists can contain elements of different types, including other lists."
         ]
      },
      {
         "cell_type": "code",
         "execution_count": null,
         "metadata": {},
         "outputs": [],
         "source": [
            "# Creating a list of integers\n",
            "int_list = [1, 2, 3, 4, 5]\n",
            "print(int_list)\n",
            "\n",
            "# Creating a list of strings\n",
            "str_list = ['apple', 'banana', 'cherry']\n",
            "print(str_list)\n",
            "\n",
            "# Creating a mixed list\n",
            "mixed_list = [1, 'apple', 3.14, [1, 2, 3]]\n",
            "print(mixed_list)"
         ]
      },
      {
         "cell_type": "markdown",
         "metadata": {},
         "source": [
            "## Accessing Elements\n",
            "\n",
            "You can access elements of a list using indexing. Python uses zero-based indexing, so the first element has an index of 0."
         ]
      },
      {
         "cell_type": "code",
         "execution_count": 2,
         "metadata": {},
         "outputs": [
            {
               "name": "stdout",
               "output_type": "stream",
               "text": [
                  "1\n",
                  "banana\n",
                  "[1, 2, 3]\n"
               ]
            }
         ],
         "source": [
            "# Accessing elements\n",
            "print(int_list[0])  # First element\n",
            "print(str_list[1])  # Second element\n",
            "print(mixed_list[3])  # Fourth element (which is a list)"
         ]
      },
      {
         "cell_type": "markdown",
         "metadata": {},
         "source": [
            "## Modifying Lists\n",
            "\n",
            "Lists are mutable, meaning you can change their content without changing their identity. You can modify elements by accessing them directly and assigning new values."
         ]
      },
      {
         "cell_type": "code",
         "execution_count": 3,
         "metadata": {},
         "outputs": [
            {
               "name": "stdout",
               "output_type": "stream",
               "text": [
                  "[10, 2, 3, 4, 5]\n",
                  "[10, 2, 3, 4, 5, 6]\n",
                  "[2, 3, 4, 5, 6]\n"
               ]
            }
         ],
         "source": [
            "# Modifying elements\n",
            "int_list[0] = 10\n",
            "print(int_list)\n",
            "\n",
            "# Adding elements\n",
            "int_list.append(6)\n",
            "print(int_list)\n",
            "\n",
            "# Removing elements\n",
            "int_list.remove(10)\n",
            "print(int_list)"
         ]
      },
      {
         "cell_type": "markdown",
         "metadata": {},
         "source": [
            "## List Methods\n",
            "\n",
            "Python lists have several built-in methods that make it easy to work with lists. Some of the most commonly used methods are `append()`, `remove()`, `pop()`, `sort()`, and `reverse()`."
         ]
      },
      {
         "cell_type": "code",
         "execution_count": 4,
         "metadata": {},
         "outputs": [
            {
               "name": "stdout",
               "output_type": "stream",
               "text": [
                  "[2, 3, 4, 5, 6, 7]\n",
                  "[2, 3, 4, 5, 6]\n",
                  "[2, 3, 4, 5, 6]\n",
                  "[6, 5, 4, 3, 2]\n"
               ]
            }
         ],
         "source": [
            "# Using list methods\n",
            "int_list.append(7)  # Add an element to the end\n",
            "print(int_list)\n",
            "\n",
            "int_list.pop()  # Remove and return the last element\n",
            "print(int_list)\n",
            "\n",
            "int_list.sort()  # Sort the list\n",
            "print(int_list)\n",
            "\n",
            "int_list.reverse()  # Reverse the list\n",
            "print(int_list)"
         ]
      },
      {
         "cell_type": "markdown",
         "metadata": {},
         "source": [
            "## List Comprehensions\n",
            "\n",
            "List comprehensions provide a concise way to create lists. They consist of brackets containing an expression followed by a `for` clause, then zero or more `for` or `if` clauses."
         ]
      },
      {
         "cell_type": "code",
         "execution_count": 5,
         "metadata": {},
         "outputs": [
            {
               "name": "stdout",
               "output_type": "stream",
               "text": [
                  "[0, 1, 4, 9, 16, 25, 36, 49, 64, 81]\n",
                  "[0, 4, 16, 36, 64]\n"
               ]
            }
         ],
         "source": [
            "# Using list comprehensions\n",
            "squares = [x**2 for x in range(10)]\n",
            "print(squares)\n",
            "\n",
            "even_squares = [x**2 for x in range(10) if x % 2 == 0]\n",
            "print(even_squares)"
         ]
      }
   ],
   "metadata": {
      "kernelspec": {
         "display_name": "base",
         "language": "python",
         "name": "python3"
      },
      "language_info": {
         "codemirror_mode": {
            "name": "ipython",
            "version": 3
         },
         "file_extension": ".py",
         "mimetype": "text/x-python",
         "name": "python",
         "nbconvert_exporter": "python",
         "pygments_lexer": "ipython3",
         "version": "3.11.5"
      }
   },
   "nbformat": 4,
   "nbformat_minor": 4
}
