{
 "cells": [
  {
   "cell_type": "markdown",
   "metadata": {},
   "source": [
    "\n",
    "### Introduction to Python Dictionaries\n",
    "- **Definition**: A dictionary is an unordered collection of items. Each item is a key-value pair.\n",
    "- **Syntax**: `{key1: value1, key2: value2, ...}`\n",
    "- **Example**:\n",
    "    ```python\n",
    "    my_dict = {'name': 'Alice', 'age': 25, 'city': 'New York'}\n",
    "    ```\n"
   ]
  },
  {
   "cell_type": "code",
   "execution_count": 6,
   "metadata": {},
   "outputs": [
    {
     "name": "stdout",
     "output_type": "stream",
     "text": [
      "{'name': 'Jetsun', 'age': 11, 'school': 'Ladue Middle School'}\n",
      "{'name': 'Dylan', 'age': 12, 'school': 'Ladue Middle School'}\n"
     ]
    }
   ],
   "source": [
    "my_dict = {'name': 'Jetsun', 'age': 11, 'school': 'Ladue Middle School'}\n",
    "print(my_dict)\n",
    "my_dict2 = {'name': 'Dylan', 'age': 12, 'school': 'Ladue Middle School'}\n",
    "print(my_dict2)"
   ]
  },
  {
   "cell_type": "markdown",
   "metadata": {},
   "source": [
    "\n",
    "### Creating and Accessing Dictionaries\n",
    "- **Creating a Dictionary**:\n",
    "    ```python\n",
    "    my_dict = {'name': 'Alice', 'age': 25, 'city': 'New York'}\n",
    "    ```\n",
    "- **Accessing Values**:\n",
    "    ```python\n",
    "    print(my_dict['name'])  # Output: Alice\n",
    "    print(my_dict.get('age'))  # Output: 25\n",
    "    ```\n"
   ]
  },
  {
   "cell_type": "code",
   "execution_count": 9,
   "metadata": {},
   "outputs": [
    {
     "name": "stdout",
     "output_type": "stream",
     "text": [
      "Jetsun\n",
      "Dylan\n",
      "11\n",
      "12\n"
     ]
    }
   ],
   "source": [
    "print(my_dict['name'])\n",
    "print(my_dict2['name'])\n",
    "print(my_dict.get('age'))\n",
    "print(my_dict2.get('age'))\n"
   ]
  },
  {
   "cell_type": "markdown",
   "metadata": {},
   "source": [
    "\n",
    "### Modifying Dictionaries\n",
    "- **Adding Items**:\n",
    "    ```python\n",
    "    my_dict['email'] = 'alice@example.com'\n",
    "    ```\n",
    "- **Updating Items**:\n",
    "    ```python\n",
    "    my_dict['age'] = 26\n",
    "    ```\n",
    "- **Removing Items**:\n",
    "    ```python\n",
    "    my_dict.pop('city')\n",
    "    del my_dict['email']\n",
    "    ```\n"
   ]
  },
  {
   "cell_type": "code",
   "execution_count": 11,
   "metadata": {},
   "outputs": [
    {
     "name": "stdout",
     "output_type": "stream",
     "text": [
      "{'name': 'Jetsun Ran', 'age': 11, 'school': 'Ladue Middle School', 'email': 'jetsun@example.om'}\n",
      "{'name': 'Jetsun Ran', 'age': 11, 'school': 'Ladue Middle School'}\n"
     ]
    }
   ],
   "source": [
    "my_dict['email'] = 'jetsun@example.om'\n",
    "my_dict['name'] = 'Jetsun Ran'\n",
    "print(my_dict)\n",
    "del my_dict['email']\n",
    "print(my_dict)"
   ]
  },
  {
   "cell_type": "markdown",
   "metadata": {},
   "source": [
    "\n",
    "### Dictionary Methods\n",
    "- **Common Methods**:\n",
    "    ```python\n",
    "    my_dict.keys()  # Returns a view object of all keys\n",
    "    my_dict.values()  # Returns a view object of all values\n",
    "    my_dict.items()  # Returns a view object of all key-value pairs\n",
    "    my_dict.clear()  # Removes all items\n",
    "    my_dict.update({'name': 'Bob', 'age': 30})  # Updates dictionary with new key-value pairs\n",
    "    ```\n",
    "\n",
    "### Looping Through Dictionaries\n",
    "- **Looping Through Keys**:\n",
    "    ```python\n",
    "    for key in my_dict:\n",
    "            print(key)\n",
    "    ```\n",
    "- **Looping Through Values**:\n",
    "    ```python\n",
    "    for value in my_dict.values():\n",
    "            print(value)\n",
    "    ```\n",
    "- **Looping Through Key-Value Pairs**:\n",
    "    ```python\n",
    "    for key, value in my_dict.items():\n",
    "            print(f'{key}: {value}')\n",
    "    ```\n",
    "\n",
    "### Conclusion and Q&A\n",
    "- **Recap**: Summarize key points about creating, accessing, modifying, and looping through dictionaries.\n",
    "- **Questions**: Open the floor for any questions from the audience.\n",
    "\n",
    "This outline should help you cover the basics of Python dictionaries in about 25 minutes.\n",
    "### Nested Dictionaries\n",
    "- **Definition**: A dictionary can contain another dictionary as a value.\n",
    "- **Example**:\n",
    "    ```python\n",
    "    nested_dict = {\n",
    "        'person1': {'name': 'Alice', 'age': 25},\n",
    "        'person2': {'name': 'Bob', 'age': 30}\n",
    "    }\n",
    "    ```\n",
    "- **Accessing Nested Values**:\n",
    "    ```python\n",
    "    print(nested_dict['person1']['name'])  # Output: Alice\n",
    "    print(nested_dict['person2']['age'])  # Output: 30\n",
    "    ```\n",
    "\n",
    "### Dictionary Comprehensions\n",
    "- **Definition**: A concise way to create dictionaries.\n",
    "- **Example**:\n",
    "    ```python\n",
    "    squares = {x: x*x for x in range(6)}\n",
    "    print(squares)  # Output: {0: 0, 1: 1, 2: 4, 3: 9, 4: 16, 5: 25}\n",
    "    ```\n",
    "\n",
    "### Handling Missing Keys\n",
    "- **Using `get` Method**:\n",
    "\n",
    "    ```python\n",
    "    print(my_dict.get('address', 'Not Found'))  # Output: Not Found\n",
    "    ```\n",
    "- **Using `setdefault` Method**:\n",
    "\n",
    "    ```python\n",
    "    my_dict.setdefault('address', 'Unknown')\n",
    "    print(my_dict['address'])  # Output: Unknown\n",
    "    ```\n",
    "\n",
    "### Merging Dictionaries\n",
    "- **Using `update` Method**:\n",
    "    ```python\n",
    "    dict1 = {'a': 1, 'b': 2}\n",
    "    dict2 = {'b': 3, 'c': 4}\n",
    "    dict1.update(dict2)\n",
    "    print(dict1)  # Output: {'a': 1, 'b': 3, 'c': 4}\n",
    "    ```\n",
    "- **Using Dictionary Unpacking**:\n",
    "    ```python\n",
    "    dict1 = {'a': 1, 'b': 2}\n",
    "    dict2 = {'b': 3, 'c': 4}\n",
    "    merged_dict = {**dict1, **dict2}\n",
    "    print(merged_dict)  # Output: {'a': 1, 'b': 3, 'c': 4}\n",
    "    ```"
   ]
  }
 ],
 "metadata": {
  "kernelspec": {
   "display_name": "base",
   "language": "python",
   "name": "python3"
  },
  "language_info": {
   "codemirror_mode": {
    "name": "ipython",
    "version": 3
   },
   "file_extension": ".py",
   "mimetype": "text/x-python",
   "name": "python",
   "nbconvert_exporter": "python",
   "pygments_lexer": "ipython3",
   "version": "3.11.5"
  }
 },
 "nbformat": 4,
 "nbformat_minor": 2
}
