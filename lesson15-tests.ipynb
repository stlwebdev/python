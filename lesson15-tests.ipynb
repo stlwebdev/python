{
 "cells": [
  {
   "cell_type": "markdown",
   "metadata": {},
   "source": [
    "### **Python Test: Evaluating Basics**\n",
    "#### *Part 1: Multiple Choice (5 Questions)*"
   ]
  },
  {
   "cell_type": "markdown",
   "metadata": {},
   "source": [
    "\n",
    "1. **What is the correct way to declare a variable in Python?**  \n",
    "   a. `int x = 5`  \n",
    "   b. `x := 5`  \n",
    "   c. `x = 5`  \n",
    "   d. `var x = 5`  \n",
    "\n",
    "2. **What will the following code output?**\n",
    "   ```python\n",
    "   x = 10\n",
    "   if x > 5:\n",
    "       print(\"Greater\")\n",
    "   else:\n",
    "       print(\"Smaller\")\n",
    "   ```\n",
    "   a. Greater  \n",
    "   b. Smaller  \n",
    "   c. Error  \n",
    "   d. Nothing  \n",
    "\n",
    "3. **Which of the following is used to define a function in Python?**  \n",
    "   a. `function`  \n",
    "   b. `def`  \n",
    "   c. `method`  \n",
    "   d. `func`  \n",
    "\n",
    "4. **What is the output of this code?**  \n",
    "   ```python\n",
    "   for i in range(3):\n",
    "       print(i)\n",
    "   ```  \n",
    "   a. 1 2 3  \n",
    "   b. 0 1 2  \n",
    "   c. 0 1 2 3  \n",
    "   d. Error  \n",
    "\n",
    "5. **What does the `return` statement do in a function?**  \n",
    "   a. Stops the function and sends a value back to the caller.  \n",
    "   b. Prints the output of the function.  \n",
    "   c. Stops the program execution.  \n",
    "   d. Saves the function to a file.  \n",
    "\n",
    "---\n",
    "\n",
    "#### **Part 2: Coding Questions (2 Questions)**  \n",
    "1. **Write a function `check_even_odd` that takes a number as input and prints \"Even\" if the number is even and \"Odd\" if the number is odd.**  \n",
    "   Example:  \n",
    "   ```python\n",
    "   check_even_odd(4)  # Output: Even\n",
    "   check_even_odd(7)  # Output: Odd\n",
    "   ```\n",
    "\n",
    "2. **Create a program that performs the following:**  \n",
    "   - Asks the user to enter their age.  \n",
    "   - If the age is 18 or older, print \"You are an adult.\"  \n",
    "   - If the age is less than 18, print \"You are a minor.\"  \n",
    "   - Write this logic inside a function called `check_age`.  \n",
    "   Example:  \n",
    "   ```python\n",
    "   check_age(20)  # Output: You are an adult.\n",
    "   check_age(15)  # Output: You are a minor.\n",
    "   ```\n",
    "\n",
    "---\n",
    "\n",
    "#### **Part 3: Debugging Question (1 Question)**  \n",
    "The following code contains an error. Identify the error and fix it:  \n",
    "```python\n",
    "def greet(name):\n",
    "print(\"Hello, \" + name)\n",
    "\n",
    "greet(\"Alice\")\n",
    "```\n",
    "\n",
    "---\n",
    "\n",
    "### **Answer Key**  \n",
    "**Part 1:**  \n",
    "1. c. `x = 5`  \n",
    "2. a. Greater  \n",
    "3. b. `def`  \n",
    "4. b. 0 1 2  \n",
    "5. a. Stops the function and sends a value back to the caller.  \n",
    "\n",
    "**Part 2:**  \n",
    "1. Example Solution:  \n",
    "   ```python\n",
    "   def check_even_odd(num):\n",
    "       if num % 2 == 0:\n",
    "           print(\"Even\")\n",
    "       else:\n",
    "           print(\"Odd\")\n",
    "   ```\n",
    "\n",
    "2. Example Solution:  \n",
    "   ```python\n",
    "   def check_age(age):\n",
    "       if age >= 18:\n",
    "           print(\"You are an adult.\")\n",
    "       else:\n",
    "           print(\"You are a minor.\")\n",
    "   ```\n",
    "\n",
    "**Part 3:**  \n",
    "Corrected Code:  \n",
    "```python\n",
    "def greet(name):\n",
    "    print(\"Hello, \" + name)\n",
    "\n",
    "greet(\"Alice\")\n",
    "```"
   ]
  },
  {
   "cell_type": "markdown",
   "metadata": {},
   "source": [
    "# String methods"
   ]
  },
  {
   "cell_type": "code",
   "execution_count": 41,
   "metadata": {},
   "outputs": [],
   "source": [
    "\n",
    "# Sample string\n",
    "sample_string = \"Hello, Julio+Jetsun+Dylan!\"\n"
   ]
  },
  {
   "cell_type": "code",
   "execution_count": 42,
   "metadata": {},
   "outputs": [
    {
     "name": "stdout",
     "output_type": "stream",
     "text": [
      "Uppercase: HELLO, JULIO+JETSUN+DYLAN!\n"
     ]
    }
   ],
   "source": [
    "\n",
    "# 1. upper() - Converts all characters in the string to uppercase\n",
    "upper_string = sample_string.upper()\n",
    "print(\"Uppercase:\", upper_string)\n"
   ]
  },
  {
   "cell_type": "code",
   "execution_count": 43,
   "metadata": {},
   "outputs": [
    {
     "name": "stdout",
     "output_type": "stream",
     "text": [
      "Lowercase: hello, julio+jetsun+dylan!\n"
     ]
    }
   ],
   "source": [
    "\n",
    "# 2. lower() - Converts all characters in the string to lowercase\n",
    "lower_string = sample_string.lower()\n",
    "print(\"Lowercase:\", lower_string)\n"
   ]
  },
  {
   "cell_type": "code",
   "execution_count": 44,
   "metadata": {},
   "outputs": [
    {
     "name": "stdout",
     "output_type": "stream",
     "text": [
      "Stripped: Hello, students!\n"
     ]
    }
   ],
   "source": [
    "\n",
    "# 3. strip() - Removes any leading and trailing whitespace from the string\n",
    "whitespace_string = \"    Hello, students!    \"\n",
    "stripped_string = whitespace_string.strip()\n",
    "print(\"Stripped:\", stripped_string)"
   ]
  },
  {
   "cell_type": "code",
   "execution_count": 45,
   "metadata": {},
   "outputs": [
    {
     "name": "stdout",
     "output_type": "stream",
     "text": [
      "Replaced: Hola, Julio+Jetsun+Dylan!\n"
     ]
    }
   ],
   "source": [
    "\n",
    "# 4. replace() - Replaces a specified phrase with another specified phrase\n",
    "replaced_string = sample_string.replace(\"Hello\", \"Hola\")\n",
    "print(\"Replaced:\", replaced_string)"
   ]
  },
  {
   "cell_type": "code",
   "execution_count": 46,
   "metadata": {},
   "outputs": [
    {
     "name": "stdout",
     "output_type": "stream",
     "text": [
      "Split: ['Hello', 'Julio+Jetsun+Dylan!']\n"
     ]
    }
   ],
   "source": [
    "\n",
    "# 5. split() - Splits the string into a list where each word is a list item\n",
    "split_string = sample_string.split(\", \")\n",
    "print(\"Split:\", split_string)\n",
    "\n"
   ]
  },
  {
   "cell_type": "markdown",
   "metadata": {},
   "source": [
    "### Question: how to get a list of the student names using the sample string?"
   ]
  },
  {
   "cell_type": "code",
   "execution_count": 47,
   "metadata": {},
   "outputs": [
    {
     "name": "stdout",
     "output_type": "stream",
     "text": [
      "['Julio', 'Jetsun', 'Dylan']\n"
     ]
    }
   ],
   "source": [
    "name_list = sample_string.split(', ')[1].strip('!').split('+')\n",
    "print(name_list)"
   ]
  },
  {
   "cell_type": "code",
   "execution_count": 49,
   "metadata": {},
   "outputs": [
    {
     "name": "stdout",
     "output_type": "stream",
     "text": [
      "Joined: Julio/Jetsun/Dylan\n"
     ]
    }
   ],
   "source": [
    "\n",
    "# 6. join() - Joins the elements of an iterable to the end of the string\n",
    "joined_string = \"/\".join(name_list)\n",
    "print(\"Joined:\", joined_string)\n"
   ]
  },
  {
   "cell_type": "code",
   "execution_count": 56,
   "metadata": {},
   "outputs": [
    {
     "name": "stdout",
     "output_type": "stream",
     "text": [
      "Found 'Julio' at index: 7 in string: Hello, Julio+Jetsun+Dylan!\n",
      "Found 'Jetsun' at index: 13 in string: Hello, Julio+Jetsun+Dylan!\n",
      "Found 'Dylan' at index: 20 in string: Hello, Julio+Jetsun+Dylan!\n"
     ]
    }
   ],
   "source": [
    "\n",
    "# 7. find() - Searches the string for a specified value and returns the position of where it was found\n",
    "found_index = sample_string.find(\"Julio\")\n",
    "print(\"Found 'Julio' at index:\", found_index, 'in string:', sample_string)\n",
    "found_index = sample_string.find(\"Jetsun\")\n",
    "print(\"Found 'Jetsun' at index:\", found_index, 'in string:', sample_string)\n",
    "found_index = sample_string.find(\"Dylan\")\n",
    "print(\"Found 'Dylan' at index:\", found_index, 'in string:', sample_string)"
   ]
  },
  {
   "cell_type": "code",
   "execution_count": 59,
   "metadata": {},
   "outputs": [
    {
     "name": "stdout",
     "output_type": "stream",
     "text": [
      "Is digit: True\n"
     ]
    }
   ],
   "source": [
    "\n",
    "# 8. isdigit() - Returns True if all characters in the string are digits\n",
    "digit_string = \"12345\"\n",
    "is_digit = digit_string.isdigit()\n",
    "print(\"Is digit:\", is_digit)\n"
   ]
  },
  {
   "cell_type": "code",
   "execution_count": 62,
   "metadata": {},
   "outputs": [
    {
     "name": "stdout",
     "output_type": "stream",
     "text": [
      "Is alpha: False\n"
     ]
    }
   ],
   "source": [
    "\n",
    "\n",
    "# 9. isalpha() - Returns True if all characters in the string are in the alphabet\n",
    "alpha_string = \"Hello\"\n",
    "is_alpha = alpha_string.isalpha()\n",
    "print(\"Is alpha:\", is_alpha)\n"
   ]
  },
  {
   "cell_type": "code",
   "execution_count": 63,
   "metadata": {},
   "outputs": [
    {
     "name": "stdout",
     "output_type": "stream",
     "text": [
      "Length of string: 26\n"
     ]
    }
   ],
   "source": [
    "\n",
    "\n",
    "# 10. len() - Returns the length of the string\n",
    "length_of_string = len(sample_string)\n",
    "print(\"Length of string:\", length_of_string)"
   ]
  }
 ],
 "metadata": {
  "kernelspec": {
   "display_name": "base",
   "language": "python",
   "name": "python3"
  },
  "language_info": {
   "codemirror_mode": {
    "name": "ipython",
    "version": 3
   },
   "file_extension": ".py",
   "mimetype": "text/x-python",
   "name": "python",
   "nbconvert_exporter": "python",
   "pygments_lexer": "ipython3",
   "version": "3.11.5"
  }
 },
 "nbformat": 4,
 "nbformat_minor": 2
}
